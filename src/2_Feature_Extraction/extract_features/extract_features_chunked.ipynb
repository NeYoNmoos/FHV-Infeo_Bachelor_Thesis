{
 "cells": [
  {
   "cell_type": "code",
   "execution_count": null,
   "id": "7e0f894e",
   "metadata": {},
   "outputs": [
    {
     "name": "stdout",
     "output_type": "stream",
     "text": [
      "Processing 65 row groups\n"
     ]
    },
    {
     "name": "stderr",
     "output_type": "stream",
     "text": [
      "Reading row groups: 100%|██████████| 65/65 [00:19<00:00,  3.35it/s]\n",
      "Extracting features: 100%|██████████| 45598/45598 [1:58:40<00:00,  6.40it/s]  \n"
     ]
    },
    {
     "name": "stdout",
     "output_type": "stream",
     "text": [
      "Feature extraction complete. Saved to tracking_features_chunked.csv\n"
     ]
    },
    {
     "ename": "",
     "evalue": "",
     "output_type": "error",
     "traceback": [
      "\u001b[1;31mThe Kernel crashed while executing code in the current cell or a previous cell. \n",
      "\u001b[1;31mPlease review the code in the cell(s) to identify a possible cause of the failure. \n",
      "\u001b[1;31mClick <a href='https://aka.ms/vscodeJupyterKernelCrash'>here</a> for more info. \n",
      "\u001b[1;31mView Jupyter <a href='command:jupyter.viewOutput'>log</a> for further details."
     ]
    }
   ],
   "source": [
    "import pyarrow.parquet as pq\n",
    "import pandas as pd\n",
    "import numpy as np\n",
    "from geopy.distance import geodesic\n",
    "from tqdm import tqdm\n",
    "from collections import defaultdict\n",
    "from math import radians, sin, cos, atan2, sqrt\n",
    "\n",
    "def calculate_bearing(p1, p2):\n",
    "    lat1, lon1 = radians(p1[0]), radians(p1[1])\n",
    "    lat2, lon2 = radians(p2[0]), radians(p2[1])\n",
    "    dlon = lon2 - lon1\n",
    "\n",
    "    x = sin(dlon) * cos(lat2)\n",
    "    y = cos(lat1)*sin(lat2) - sin(lat1)*cos(lat2)*cos(dlon)\n",
    "    bearing = atan2(x, y)\n",
    "    return bearing\n",
    "\n",
    "parquet_file = pq.ParquetFile(\"../../Data_Preperation/filtered_data_full_1.parquet\")\n",
    "num_row_groups = parquet_file.num_row_groups\n",
    "print(f\"Processing {num_row_groups} row groups\")\n",
    "\n",
    "id_tracking_data = defaultdict(list)\n",
    "\n",
    "for rg in tqdm(range(num_row_groups), desc=\"Reading row groups\"):\n",
    "    df = parquet_file.read_row_group(rg).to_pandas()\n",
    "    for tracking_id, group in df.groupby(\"id_tracking\"):\n",
    "        id_tracking_data[tracking_id].append(group)\n",
    "\n",
    "features = []\n",
    "\n",
    "for tracking_id, parts in tqdm(id_tracking_data.items(), desc=\"Extracting features\"):\n",
    "    group = pd.concat(parts).sort_values(by=\"sequence\").dropna(subset=[\"latitude\", \"longitude\"])\n",
    "\n",
    "    coords = list(zip(group[\"latitude\"], group[\"longitude\"]))\n",
    "    if len(coords) < 2:\n",
    "        continue\n",
    "\n",
    "    num_points = len(coords)\n",
    "    \n",
    "    lat_min, lat_max = group[\"latitude\"].min(), group[\"latitude\"].max()\n",
    "    lon_min, lon_max = group[\"longitude\"].min(), group[\"longitude\"].max()\n",
    "\n",
    "    height = geodesic((lat_min, lon_min), (lat_max, lon_min)).meters\n",
    "    width = geodesic((lat_min, lon_min), (lat_min, lon_max)).meters\n",
    "    bbox_area = height * width\n",
    "    \n",
    "    point_density = num_points / (bbox_area + 1e-6)\n",
    "    dists = [geodesic(coords[i], coords[i+1]).meters for i in range(len(coords)-1)]\n",
    "    avg_segment_distance = np.mean(dists)\n",
    "    total_distance = np.sum(dists)\n",
    "\n",
    "    num_stops = (group[\"speed\"] == 0).sum()\n",
    "    duration = max(group[\"tracking_duration\"]) if \"tracking_duration\" in group.columns else 0\n",
    "    length = max(group[\"tracking_length\"]) if \"tracking_length\" in group.columns else 0\n",
    "    \n",
    "    straight_line = geodesic(coords[0], coords[-1]).meters\n",
    "    straightness = straight_line / total_distance if total_distance > 0 else 0\n",
    "\n",
    "    angle_changes = []\n",
    "    for i in range(1, len(coords) - 1):\n",
    "        prev_bearing = calculate_bearing(coords[i - 1], coords[i])\n",
    "        next_bearing = calculate_bearing(coords[i], coords[i + 1])\n",
    "        delta = abs(next_bearing - prev_bearing)\n",
    "        if delta > np.pi:\n",
    "            delta = 2 * np.pi - delta\n",
    "        angle_changes.append(delta)\n",
    "    mean_heading_change = np.mean(angle_changes) if angle_changes else 0\n",
    "\n",
    "    features.append({\n",
    "        \"tracking_id\": tracking_id,\n",
    "        \"num_points\": num_points,\n",
    "        \"bbox_area\": bbox_area,\n",
    "        \"point_density\": point_density,\n",
    "        \"avg_segment_distance\": avg_segment_distance,\n",
    "        \"total_distance\": total_distance,\n",
    "        \"straightness\": straightness,\n",
    "        \"mean_heading_change\": mean_heading_change,\n",
    "        \"num_stops\": num_stops,\n",
    "        \"duration\": duration,\n",
    "        \"length\": length\n",
    "    })\n",
    "\n",
    "features_df = pd.DataFrame(features)\n",
    "features_df.to_csv(\"tracking_features_chunked_2_advanced_featurs.csv\", index=False)\n",
    "print(\"Feature extraction complete. Saved to tracking_features_chunked.csv\")\n"
   ]
  }
 ],
 "metadata": {
  "kernelspec": {
   "display_name": ".venv",
   "language": "python",
   "name": "python3"
  },
  "language_info": {
   "codemirror_mode": {
    "name": "ipython",
    "version": 3
   },
   "file_extension": ".py",
   "mimetype": "text/x-python",
   "name": "python",
   "nbconvert_exporter": "python",
   "pygments_lexer": "ipython3",
   "version": "3.10.12"
  }
 },
 "nbformat": 4,
 "nbformat_minor": 5
}
