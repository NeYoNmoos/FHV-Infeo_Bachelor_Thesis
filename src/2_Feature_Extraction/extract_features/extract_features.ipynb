{
 "cells": [
  {
   "cell_type": "code",
   "execution_count": 4,
   "id": "5ba9988a",
   "metadata": {},
   "outputs": [
    {
     "name": "stdout",
     "output_type": "stream",
     "text": [
      "850\n"
     ]
    },
    {
     "name": "stderr",
     "output_type": "stream",
     "text": [
      "Extracting features: 100%|██████████| 850/850 [00:23<00:00, 36.28it/s]"
     ]
    },
    {
     "name": "stdout",
     "output_type": "stream",
     "text": [
      "Feature extraction complete. Saved to tracking_features.csv\n"
     ]
    },
    {
     "name": "stderr",
     "output_type": "stream",
     "text": [
      "\n"
     ]
    }
   ],
   "source": [
    "import pandas as pd\n",
    "import numpy as np\n",
    "from geopy.distance import geodesic\n",
    "from tqdm import tqdm\n",
    "\n",
    "df = pd.read_parquet(\"../data/filtered_waypoints.parquet\")\n",
    "\n",
    "df = df.sort_values(by=[\"id_tracking\", \"sequence\"]).reset_index(drop=True)\n",
    "\n",
    "grouped = df.groupby(\"id_tracking\")\n",
    "\n",
    "print(len(grouped))\n",
    "\n",
    "features = []\n",
    "\n",
    "for tracking_id, group in tqdm(grouped, desc=\"Extracting features\"):\n",
    "    group = group.dropna(subset=[\"latitude\", \"longitude\"])\n",
    "    coords = list(zip(group[\"latitude\"], group[\"longitude\"]))\n",
    "\n",
    "    if len(coords) < 2:\n",
    "        continue  \n",
    "\n",
    "    num_points = len(coords)\n",
    "\n",
    "    lat_span = max(group[\"latitude\"]) - min(group[\"latitude\"])\n",
    "    lon_span = max(group[\"longitude\"]) - min(group[\"longitude\"])\n",
    "    bbox_area = lat_span * lon_span\n",
    "\n",
    "    point_density = num_points / (bbox_area + 1e-6)\n",
    "\n",
    "    dists = [geodesic(coords[i], coords[i+1]).meters for i in range(len(coords)-1)]\n",
    "    avg_segment_distance = np.mean(dists)\n",
    "\n",
    "    num_stops = (group[\"speed\"] == 0).sum()\n",
    "\n",
    "    # duration = group[\"duration\"].iloc[0] / 1e9  \n",
    "    # length = group[\"length\"].iloc[0]            \n",
    "\n",
    "    features.append({\n",
    "        \"tracking_id\": tracking_id,\n",
    "        \"num_points\": num_points,\n",
    "        \"bbox_area\": bbox_area,\n",
    "        \"point_density\": point_density,\n",
    "        \"avg_segment_distance\": avg_segment_distance,\n",
    "        \"num_stops\": num_stops,\n",
    "        # \"duration\": duration,\n",
    "        # \"length\": length\n",
    "    })\n",
    "\n",
    "features_df = pd.DataFrame(features)\n",
    "features_df.to_csv(\"tracking_features.csv\", index=False)\n",
    "print(\"Feature extraction complete. Saved to tracking_features.csv\")\n"
   ]
  },
  {
   "cell_type": "code",
   "execution_count": null,
   "id": "b2322c46",
   "metadata": {},
   "outputs": [],
   "source": []
  }
 ],
 "metadata": {
  "kernelspec": {
   "display_name": ".venv",
   "language": "python",
   "name": "python3"
  },
  "language_info": {
   "codemirror_mode": {
    "name": "ipython",
    "version": 3
   },
   "file_extension": ".py",
   "mimetype": "text/x-python",
   "name": "python",
   "nbconvert_exporter": "python",
   "pygments_lexer": "ipython3",
   "version": "3.10.12"
  }
 },
 "nbformat": 4,
 "nbformat_minor": 5
}
