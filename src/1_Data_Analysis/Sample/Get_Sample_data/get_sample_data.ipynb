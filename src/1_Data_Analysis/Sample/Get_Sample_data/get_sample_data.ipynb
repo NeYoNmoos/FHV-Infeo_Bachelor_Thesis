{
 "cells": [
  {
   "cell_type": "code",
   "execution_count": 22,
   "id": "96ba333c",
   "metadata": {},
   "outputs": [],
   "source": [
    "# Manual Selection of Trackings\n",
    "CLASSES = \"RURAL\", \"SUBURBAN\", \"TOWN\", \"URBAN\"\n",
    "\n",
    "trackings = {\n",
    "    \"8aa43ce03bc54486875ef97f680c06e6\": \"RURAL\", \n",
    "    \"98903798caa1452d94905904c490194a\": \"RURAL\", \n",
    "    \"bf6e2ac6945c4091ae15c855c2beca05\": \"TOWN\",\n",
    "    \"f7cf22a205cd41bba9308d38ff956bb4\": \"TOWN\",\n",
    "    \"2559726e33be48fdaee002f3dec7251e\": \"SUBURBAN\",\n",
    "    \"6e1f92dc3e734b5eb965a343781be443\": \"SUBURBAN\",\n",
    "    \"c535c3f521524ffc873b9e89a57b492e\": \"URBAN\", # Linz\n",
    "    \"0975abe81a084daeaf8b1b03f9afd981\": \"URBAN\" # Linz\n",
    "}"
   ]
  },
  {
   "cell_type": "code",
   "execution_count": 27,
   "id": "27beda11",
   "metadata": {},
   "outputs": [],
   "source": [
    "from sqlalchemy import create_engine\n",
    "import pandas as pd\n",
    "import json\n",
    "\n",
    "with open('../../../Credentials/awm_database_credentials.json') as data_file:\n",
    "    data = json.load(data_file)\n",
    "    \n",
    "HOST = data['host']\n",
    "PORT = data['port']\n",
    "USER = data['user']\n",
    "PASSWORD = data['password']\n",
    "DATABASE = data['database']\n",
    "\n",
    "engine = create_engine(f\"mysql+pymysql://{USER}:{PASSWORD}@{HOST}:{PORT}/{DATABASE}\")"
   ]
  },
  {
   "cell_type": "code",
   "execution_count": 30,
   "metadata": {},
   "outputs": [
    {
     "name": "stdout",
     "output_type": "stream",
     "text": [
      "       id                              name     label\n",
      "0   99476  0975abe81a084daeaf8b1b03f9afd981     URBAN\n",
      "1   99713  2559726e33be48fdaee002f3dec7251e  SUBURBAN\n",
      "2   99307  6e1f92dc3e734b5eb965a343781be443  SUBURBAN\n",
      "3  100913  8aa43ce03bc54486875ef97f680c06e6     RURAL\n",
      "4   99944  98903798caa1452d94905904c490194a     RURAL\n",
      "5  100012  bf6e2ac6945c4091ae15c855c2beca05      TOWN\n",
      "6   99496  c535c3f521524ffc873b9e89a57b492e     URBAN\n",
      "7   99729  f7cf22a205cd41bba9308d38ff956bb4      TOWN\n"
     ]
    }
   ],
   "source": [
    "tracking_names_sql = \",\".join(f\"'{name}'\" for name in trackings.keys())\n",
    "\n",
    "query = f\"\"\"\n",
    "SELECT id, name\n",
    "FROM tracking\n",
    "WHERE name IN ({tracking_names_sql})\n",
    "\"\"\"\n",
    "\n",
    "tracking_df = pd.read_sql(query, engine)\n",
    "\n",
    "tracking_df[\"label\"] = tracking_df[\"name\"].map(trackings)\n",
    "\n",
    "tracking_df.to_json(\"../Sample_Data/tracking_ids_and_labels.json\", orient=\"records\", indent=2)\n",
    "\n",
    "print(tracking_df)"
   ]
  },
  {
   "cell_type": "code",
   "execution_count": null,
   "id": "23c56ae2",
   "metadata": {},
   "outputs": [
    {
     "name": "stdout",
     "output_type": "stream",
     "text": [
      "<Response [200 OK]>\n",
      "Fetching tracking 99476 (URBAN)...\n",
      "Fetching tracking 99713 (SUBURBAN)...\n",
      "Fetching tracking 99307 (SUBURBAN)...\n",
      "Fetching tracking 100913 (RURAL)...\n",
      "Fetching tracking 99944 (RURAL)...\n",
      "Fetching tracking 100012 (TOWN)...\n",
      "Fetching tracking 99496 (URBAN)...\n",
      "Fetching tracking 99729 (TOWN)...\n",
      "✅ Labeled trackings saved to labeled_trackings_from_api.json\n"
     ]
    }
   ],
   "source": [
    "import json\n",
    "import asyncio\n",
    "from AWM_API.api_calls import get_access_token, get_single_tracking\n",
    "\n",
    "with open(\"../Sample_Data/tracking_ids_and_labels.json\", \"r\", encoding=\"utf-8\") as f:\n",
    "    tracking_info = json.load(f)\n",
    "\n",
    "async def fetch_and_save_from_ids():\n",
    "    access_token = await get_access_token()\n",
    "    if not access_token:\n",
    "        print(\"Failed to get access token.\")\n",
    "        return\n",
    "\n",
    "    labeled_data = []\n",
    "\n",
    "    for tracking in tracking_info:\n",
    "        tracking_id = tracking[\"id\"]\n",
    "        label = tracking[\"label\"]\n",
    "        print(f\"Fetching tracking {tracking_id} ({label})...\")\n",
    "\n",
    "        data = await get_single_tracking(access_token, str(tracking_id))\n",
    "        if data:\n",
    "            data[\"label\"] = label\n",
    "            labeled_data.append(data)\n",
    "\n",
    "    with open(\"../Sample_Data/labeled_trackings_from_api.json\", \"w\", encoding=\"utf-8\") as f:\n",
    "        json.dump(labeled_data, f, indent=2, ensure_ascii=False)\n",
    "\n",
    "    print(\"Labeled trackings saved to labeled_trackings_from_api.json\")\n",
    "\n",
    "await fetch_and_save_from_ids()  \n",
    "\n"
   ]
  },
  {
   "cell_type": "code",
   "execution_count": null,
   "id": "724d3b1b",
   "metadata": {},
   "outputs": [],
   "source": []
  }
 ],
 "metadata": {
  "kernelspec": {
   "display_name": ".venv",
   "language": "python",
   "name": "python3"
  },
  "language_info": {
   "codemirror_mode": {
    "name": "ipython",
    "version": 3
   },
   "file_extension": ".py",
   "mimetype": "text/x-python",
   "name": "python",
   "nbconvert_exporter": "python",
   "pygments_lexer": "ipython3",
   "version": "3.10.12"
  }
 },
 "nbformat": 4,
 "nbformat_minor": 5
}
