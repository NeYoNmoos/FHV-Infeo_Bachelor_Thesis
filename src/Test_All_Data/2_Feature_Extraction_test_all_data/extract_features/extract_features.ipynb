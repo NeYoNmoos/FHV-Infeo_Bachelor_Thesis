{
 "cells": [
  {
   "cell_type": "code",
   "execution_count": 5,
   "id": "5ba9988a",
   "metadata": {},
   "outputs": [
    {
     "name": "stdout",
     "output_type": "stream",
     "text": [
      "4919\n",
      "   id_tracking         id                time  type  sequence comment  speed  \\\n",
      "0        96435  120000001 2024-05-10 06:57:10     0       391    None    0.0   \n",
      "1        96435  120000002 2024-05-10 06:57:12     8       392    None    0.0   \n",
      "2        96435  120000003 2024-05-10 06:57:21     0       393    None    0.0   \n",
      "3        96435  120000004 2024-05-10 06:57:42     8       394    None    0.0   \n",
      "4        96435  120000005 2024-05-10 06:58:26    34       395    None    0.0   \n",
      "\n",
      "   heading  duration  block_type   log   latitude  longitude  altitude  \\\n",
      "0      0.0         0           0  None  48.296030  15.140959       0.0   \n",
      "1      0.0         0           0  None  48.296030  15.140959       0.0   \n",
      "2      0.0         0           0  None  48.296120  15.140970       0.0   \n",
      "3      0.0         0           0  None  48.296371  15.140750       0.0   \n",
      "4      0.0         0           0  None  48.296371  15.140750       0.0   \n",
      "\n",
      "   meta_tag meta_value  \n",
      "0         0             \n",
      "1        14             \n",
      "2         0             \n",
      "3        14             \n",
      "4         5          1  \n"
     ]
    },
    {
     "name": "stderr",
     "output_type": "stream",
     "text": [
      "Extracting features: 100%|██████████| 4919/4919 [13:49<00:00,  5.93it/s]"
     ]
    },
    {
     "name": "stdout",
     "output_type": "stream",
     "text": [
      "Feature extraction complete. Saved to tracking_features.csv\n"
     ]
    },
    {
     "name": "stderr",
     "output_type": "stream",
     "text": [
      "\n"
     ]
    }
   ],
   "source": [
    "import pandas as pd\n",
    "import numpy as np\n",
    "from geopy.distance import geodesic\n",
    "from tqdm import tqdm\n",
    "\n",
    "df = pd.read_parquet(\"../data/all_gps_data_without_sorting.parquet\")\n",
    "\n",
    "df = df.sort_values(by=[\"id_tracking\", \"sequence\"]).reset_index(drop=True)\n",
    "\n",
    "grouped = df.groupby(\"id_tracking\")\n",
    "\n",
    "print(len(grouped))\n",
    "\n",
    "print(df.head())\n",
    "\n",
    "features = []\n",
    "\n",
    "for tracking_id, group in tqdm(grouped, desc=\"Extracting features\"):\n",
    "    group = group.dropna(subset=[\"latitude\", \"longitude\"])\n",
    "    coords = list(zip(group[\"latitude\"], group[\"longitude\"]))\n",
    "\n",
    "    if len(coords) < 2:\n",
    "        continue  \n",
    "\n",
    "    num_points = len(coords)\n",
    "\n",
    "    lat_span = max(group[\"latitude\"]) - min(group[\"latitude\"])\n",
    "    lon_span = max(group[\"longitude\"]) - min(group[\"longitude\"])\n",
    "    bbox_area = lat_span * lon_span\n",
    "\n",
    "    point_density = num_points / (bbox_area + 1e-6)\n",
    "\n",
    "    dists = [geodesic(coords[i], coords[i+1]).meters for i in range(len(coords)-1)]\n",
    "    avg_segment_distance = np.mean(dists)\n",
    "\n",
    "    num_stops = (group[\"speed\"] == 0).sum()\n",
    "\n",
    "    # duration = group[\"duration\"].iloc[0] / 1e9  \n",
    "    # length = group[\"length\"].iloc[0]     \n",
    "    \n",
    "    # if \"duration\" in group.columns:\n",
    "    #     duration = group[\"duration\"].iloc[0] / 1e9 \n",
    "\n",
    "    # if \"length\" in group.columns:\n",
    "    #     length = group[\"length\"].iloc[0] \n",
    "\n",
    "    features.append({\n",
    "        \"tracking_id\": tracking_id,\n",
    "        \"num_points\": num_points,\n",
    "        \"bbox_area\": bbox_area,\n",
    "        \"point_density\": point_density,\n",
    "        \"avg_segment_distance\": avg_segment_distance,\n",
    "        \"num_stops\": num_stops,\n",
    "        # \"duration\": duration,\n",
    "        # \"length\": length\n",
    "    })\n",
    "\n",
    "features_df = pd.DataFrame(features)\n",
    "features_df.to_csv(\"tracking_features.csv\", index=False)\n",
    "print(\"Feature extraction complete. Saved to tracking_features.csv\")\n"
   ]
  },
  {
   "cell_type": "code",
   "execution_count": null,
   "id": "b2322c46",
   "metadata": {},
   "outputs": [],
   "source": []
  }
 ],
 "metadata": {
  "kernelspec": {
   "display_name": ".venv",
   "language": "python",
   "name": "python3"
  },
  "language_info": {
   "codemirror_mode": {
    "name": "ipython",
    "version": 3
   },
   "file_extension": ".py",
   "mimetype": "text/x-python",
   "name": "python",
   "nbconvert_exporter": "python",
   "pygments_lexer": "ipython3",
   "version": "3.10.12"
  }
 },
 "nbformat": 4,
 "nbformat_minor": 5
}
