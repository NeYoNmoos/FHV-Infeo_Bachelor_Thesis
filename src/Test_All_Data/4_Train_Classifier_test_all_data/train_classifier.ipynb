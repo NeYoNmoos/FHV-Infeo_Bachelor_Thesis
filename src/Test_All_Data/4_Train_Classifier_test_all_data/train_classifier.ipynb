{
 "cells": [
  {
   "cell_type": "code",
   "execution_count": 6,
   "id": "5e3f9190",
   "metadata": {},
   "outputs": [
    {
     "data": {
      "text/html": [
       "<div>\n",
       "<style scoped>\n",
       "    .dataframe tbody tr th:only-of-type {\n",
       "        vertical-align: middle;\n",
       "    }\n",
       "\n",
       "    .dataframe tbody tr th {\n",
       "        vertical-align: top;\n",
       "    }\n",
       "\n",
       "    .dataframe thead th {\n",
       "        text-align: right;\n",
       "    }\n",
       "</style>\n",
       "<table border=\"1\" class=\"dataframe\">\n",
       "  <thead>\n",
       "    <tr style=\"text-align: right;\">\n",
       "      <th></th>\n",
       "      <th>tracking_id</th>\n",
       "      <th>num_points</th>\n",
       "      <th>bbox_area</th>\n",
       "      <th>point_density</th>\n",
       "      <th>avg_segment_distance</th>\n",
       "      <th>num_stops</th>\n",
       "      <th>cluster</th>\n",
       "      <th>pca1</th>\n",
       "      <th>pca2</th>\n",
       "      <th>predicted_label</th>\n",
       "    </tr>\n",
       "  </thead>\n",
       "  <tbody>\n",
       "    <tr>\n",
       "      <th>0</th>\n",
       "      <td>96435</td>\n",
       "      <td>1092</td>\n",
       "      <td>0.037478</td>\n",
       "      <td>29136.266350</td>\n",
       "      <td>74.353047</td>\n",
       "      <td>1092</td>\n",
       "      <td>3</td>\n",
       "      <td>-0.837088</td>\n",
       "      <td>0.607072</td>\n",
       "      <td>RURAL</td>\n",
       "    </tr>\n",
       "    <tr>\n",
       "      <th>1</th>\n",
       "      <td>96436</td>\n",
       "      <td>1965</td>\n",
       "      <td>0.030543</td>\n",
       "      <td>64332.732343</td>\n",
       "      <td>68.475822</td>\n",
       "      <td>1965</td>\n",
       "      <td>2</td>\n",
       "      <td>0.925632</td>\n",
       "      <td>-0.461554</td>\n",
       "      <td>TOWN</td>\n",
       "    </tr>\n",
       "    <tr>\n",
       "      <th>2</th>\n",
       "      <td>96437</td>\n",
       "      <td>1631</td>\n",
       "      <td>0.029632</td>\n",
       "      <td>55040.207972</td>\n",
       "      <td>64.862972</td>\n",
       "      <td>1631</td>\n",
       "      <td>2</td>\n",
       "      <td>0.207247</td>\n",
       "      <td>-0.185117</td>\n",
       "      <td>TOWN</td>\n",
       "    </tr>\n",
       "    <tr>\n",
       "      <th>3</th>\n",
       "      <td>96438</td>\n",
       "      <td>2043</td>\n",
       "      <td>0.020103</td>\n",
       "      <td>101623.875093</td>\n",
       "      <td>63.076106</td>\n",
       "      <td>2043</td>\n",
       "      <td>2</td>\n",
       "      <td>0.956008</td>\n",
       "      <td>-0.879905</td>\n",
       "      <td>TOWN</td>\n",
       "    </tr>\n",
       "    <tr>\n",
       "      <th>4</th>\n",
       "      <td>96439</td>\n",
       "      <td>2266</td>\n",
       "      <td>0.073024</td>\n",
       "      <td>31030.518246</td>\n",
       "      <td>58.472769</td>\n",
       "      <td>2266</td>\n",
       "      <td>2</td>\n",
       "      <td>2.122557</td>\n",
       "      <td>0.517765</td>\n",
       "      <td>TOWN</td>\n",
       "    </tr>\n",
       "  </tbody>\n",
       "</table>\n",
       "</div>"
      ],
      "text/plain": [
       "   tracking_id  num_points  bbox_area  point_density  avg_segment_distance  \\\n",
       "0        96435        1092   0.037478   29136.266350             74.353047   \n",
       "1        96436        1965   0.030543   64332.732343             68.475822   \n",
       "2        96437        1631   0.029632   55040.207972             64.862972   \n",
       "3        96438        2043   0.020103  101623.875093             63.076106   \n",
       "4        96439        2266   0.073024   31030.518246             58.472769   \n",
       "\n",
       "   num_stops  cluster      pca1      pca2 predicted_label  \n",
       "0       1092        3 -0.837088  0.607072           RURAL  \n",
       "1       1965        2  0.925632 -0.461554            TOWN  \n",
       "2       1631        2  0.207247 -0.185117            TOWN  \n",
       "3       2043        2  0.956008 -0.879905            TOWN  \n",
       "4       2266        2  2.122557  0.517765            TOWN  "
      ]
     },
     "execution_count": 6,
     "metadata": {},
     "output_type": "execute_result"
    }
   ],
   "source": [
    "import pandas as pd\n",
    "df = pd.read_csv(\"../3_Analysis_on_Extracted_Data_test_all_data/tracking_features_with_labels.csv\")\n",
    "df.head()"
   ]
  },
  {
   "cell_type": "code",
   "execution_count": 7,
   "id": "b6428080",
   "metadata": {},
   "outputs": [
    {
     "name": "stdout",
     "output_type": "stream",
     "text": [
      "Classification Report:\n",
      "              precision    recall  f1-score   support\n",
      "\n",
      "       RURAL       0.99      1.00      0.99       249\n",
      "    SUBURBAN       0.99      0.97      0.98        99\n",
      "        TOWN       1.00      1.00      1.00       605\n",
      "       URBAN       1.00      1.00      1.00         5\n",
      "\n",
      "    accuracy                           0.99       958\n",
      "   macro avg       0.99      0.99      0.99       958\n",
      "weighted avg       0.99      0.99      0.99       958\n",
      "\n",
      "Confusion Matrix:\n",
      "[[248   1   0   0]\n",
      " [  1  96   2   0]\n",
      " [  1   0 604   0]\n",
      " [  0   0   0   5]]\n"
     ]
    }
   ],
   "source": [
    "from sklearn.ensemble import RandomForestClassifier\n",
    "from sklearn.model_selection import train_test_split\n",
    "from sklearn.metrics import classification_report, confusion_matrix\n",
    "# from sklearn.tree import DecisionTreeClassifier\n",
    "features = df.drop(columns=[\"tracking_id\", \"cluster\", \"predicted_label\", \"pca1\", \"pca2\"])\n",
    "labels = df[\"predicted_label\"]\n",
    "\n",
    "X_train, X_test, y_train, y_test = train_test_split(features, labels, test_size=0.2, random_state=42)\n",
    "\n",
    "clf = RandomForestClassifier(n_estimators=100, random_state=42)\n",
    "clf.fit(X_train, y_train)\n",
    "\n",
    "y_pred = clf.predict(X_test)\n",
    "print(\"Classification Report:\")\n",
    "print(classification_report(y_test, y_pred))\n",
    "print(\"Confusion Matrix:\")\n",
    "print(confusion_matrix(y_test, y_pred))\n"
   ]
  },
  {
   "cell_type": "code",
   "execution_count": 8,
   "id": "460d4feb",
   "metadata": {},
   "outputs": [
    {
     "data": {
      "text/plain": [
       "['rf_area_classifier.pkl']"
      ]
     },
     "execution_count": 8,
     "metadata": {},
     "output_type": "execute_result"
    }
   ],
   "source": [
    "import joblib\n",
    "joblib.dump(clf, \"rf_area_classifier.pkl\")\n"
   ]
  },
  {
   "cell_type": "code",
   "execution_count": 9,
   "id": "35b237ce",
   "metadata": {},
   "outputs": [
    {
     "data": {
      "image/png": "[encoded data removed]",
      "text/plain": [
       "<Figure size 1000x600 with 1 Axes>"
      ]
     },
     "metadata": {},
     "output_type": "display_data"
    }
   ],
   "source": [
    "import pandas as pd\n",
    "import matplotlib.pyplot as plt\n",
    "import seaborn as sns\n",
    "import joblib\n",
    "\n",
    "clf = joblib.load(\"rf_area_classifier.pkl\")\n",
    "\n",
    "importances = clf.feature_importances_\n",
    "feature_names = X_train.columns\n",
    "\n",
    "plt.figure(figsize=(10, 6))\n",
    "sns.barplot(x=importances, y=feature_names)\n",
    "plt.title(\"Feature Importance (Random Forest)\")\n",
    "plt.xlabel(\"Importance\")\n",
    "plt.ylabel(\"Feature\")\n",
    "plt.tight_layout()\n",
    "plt.show()\n"
   ]
  },
  {
   "cell_type": "code",
   "execution_count": 10,
   "id": "2632adac",
   "metadata": {},
   "outputs": [
    {
     "name": "stdout",
     "output_type": "stream",
     "text": [
      "Cross-Validation Scores: [0.99791232 0.99373695 0.99582463 0.98956159 0.99791232 0.99791232\n",
      " 0.98956159 1.         0.9916318  0.99790795]\n",
      "Mean Accuracy: 0.9951961460853767\n",
      "Std Dev: 0.0036233821911186865\n"
     ]
    }
   ],
   "source": [
    "from sklearn.model_selection import cross_val_score, StratifiedKFold\n",
    "import numpy as np\n",
    "\n",
    "skf = StratifiedKFold(n_splits=10, shuffle=True, random_state=42)\n",
    "\n",
    "scores = cross_val_score(clf, features, labels, cv=skf, scoring=\"accuracy\")\n",
    "\n",
    "print(\"Cross-Validation Scores:\", scores)\n",
    "print(\"Mean Accuracy:\", np.mean(scores))\n",
    "print(\"Std Dev:\", np.std(scores))\n"
   ]
  }
 ],
 "metadata": {
  "kernelspec": {
   "display_name": ".venv",
   "language": "python",
   "name": "python3"
  },
  "language_info": {
   "codemirror_mode": {
    "name": "ipython",
    "version": 3
   },
   "file_extension": ".py",
   "mimetype": "text/x-python",
   "name": "python",
   "nbconvert_exporter": "python",
   "pygments_lexer": "ipython3",
   "version": "3.10.12"
  }
 },
 "nbformat": 4,
 "nbformat_minor": 5
}
