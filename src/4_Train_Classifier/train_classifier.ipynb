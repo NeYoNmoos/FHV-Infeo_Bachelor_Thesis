{
 "cells": [
  {
   "cell_type": "code",
   "execution_count": 6,
   "id": "5e3f9190",
   "metadata": {},
   "outputs": [
    {
     "data": {
      "text/html": [
       "<div>\n",
       "<style scoped>\n",
       "    .dataframe tbody tr th:only-of-type {\n",
       "        vertical-align: middle;\n",
       "    }\n",
       "\n",
       "    .dataframe tbody tr th {\n",
       "        vertical-align: top;\n",
       "    }\n",
       "\n",
       "    .dataframe thead th {\n",
       "        text-align: right;\n",
       "    }\n",
       "</style>\n",
       "<table border=\"1\" class=\"dataframe\">\n",
       "  <thead>\n",
       "    <tr style=\"text-align: right;\">\n",
       "      <th></th>\n",
       "      <th>tracking_id</th>\n",
       "      <th>num_points</th>\n",
       "      <th>bbox_area</th>\n",
       "      <th>point_density</th>\n",
       "      <th>avg_segment_distance</th>\n",
       "      <th>total_distance</th>\n",
       "      <th>straightness</th>\n",
       "      <th>mean_heading_change</th>\n",
       "      <th>duration</th>\n",
       "      <th>length</th>\n",
       "      <th>cluster</th>\n",
       "      <th>pca1</th>\n",
       "      <th>pca2</th>\n",
       "      <th>predicted_label</th>\n",
       "    </tr>\n",
       "  </thead>\n",
       "  <tbody>\n",
       "    <tr>\n",
       "      <th>0</th>\n",
       "      <td>7</td>\n",
       "      <td>1893</td>\n",
       "      <td>1.657872e+08</td>\n",
       "      <td>0.000011</td>\n",
       "      <td>62.014453</td>\n",
       "      <td>117331.344816</td>\n",
       "      <td>0.118644</td>\n",
       "      <td>0.507563</td>\n",
       "      <td>299460000000</td>\n",
       "      <td>118.952195</td>\n",
       "      <td>0</td>\n",
       "      <td>1.217997</td>\n",
       "      <td>1.156326</td>\n",
       "      <td>RURAL</td>\n",
       "    </tr>\n",
       "    <tr>\n",
       "      <th>1</th>\n",
       "      <td>8</td>\n",
       "      <td>1752</td>\n",
       "      <td>3.410895e+07</td>\n",
       "      <td>0.000051</td>\n",
       "      <td>41.602138</td>\n",
       "      <td>72845.343283</td>\n",
       "      <td>0.070770</td>\n",
       "      <td>0.646714</td>\n",
       "      <td>346740000000</td>\n",
       "      <td>75.038270</td>\n",
       "      <td>2</td>\n",
       "      <td>0.264000</td>\n",
       "      <td>-1.839574</td>\n",
       "      <td>URBAN</td>\n",
       "    </tr>\n",
       "    <tr>\n",
       "      <th>2</th>\n",
       "      <td>11</td>\n",
       "      <td>1224</td>\n",
       "      <td>4.864727e+08</td>\n",
       "      <td>0.000003</td>\n",
       "      <td>69.604793</td>\n",
       "      <td>85126.662327</td>\n",
       "      <td>0.360045</td>\n",
       "      <td>0.563577</td>\n",
       "      <td>208300000000</td>\n",
       "      <td>86.281243</td>\n",
       "      <td>1</td>\n",
       "      <td>-2.774247</td>\n",
       "      <td>4.094970</td>\n",
       "      <td>SUBURBAN</td>\n",
       "    </tr>\n",
       "    <tr>\n",
       "      <th>3</th>\n",
       "      <td>12</td>\n",
       "      <td>2091</td>\n",
       "      <td>1.591802e+08</td>\n",
       "      <td>0.000013</td>\n",
       "      <td>66.382378</td>\n",
       "      <td>138739.169630</td>\n",
       "      <td>0.010805</td>\n",
       "      <td>0.558058</td>\n",
       "      <td>355540000000</td>\n",
       "      <td>140.722367</td>\n",
       "      <td>0</td>\n",
       "      <td>3.502377</td>\n",
       "      <td>0.238572</td>\n",
       "      <td>RURAL</td>\n",
       "    </tr>\n",
       "    <tr>\n",
       "      <th>4</th>\n",
       "      <td>15</td>\n",
       "      <td>1587</td>\n",
       "      <td>7.233978e+08</td>\n",
       "      <td>0.000002</td>\n",
       "      <td>80.415227</td>\n",
       "      <td>127538.550565</td>\n",
       "      <td>0.204191</td>\n",
       "      <td>0.539375</td>\n",
       "      <td>340810000000</td>\n",
       "      <td>128.919145</td>\n",
       "      <td>0</td>\n",
       "      <td>1.913714</td>\n",
       "      <td>3.517660</td>\n",
       "      <td>RURAL</td>\n",
       "    </tr>\n",
       "  </tbody>\n",
       "</table>\n",
       "</div>"
      ],
      "text/plain": [
       "   tracking_id  num_points     bbox_area  point_density  avg_segment_distance  \\\n",
       "0            7        1893  1.657872e+08       0.000011             62.014453   \n",
       "1            8        1752  3.410895e+07       0.000051             41.602138   \n",
       "2           11        1224  4.864727e+08       0.000003             69.604793   \n",
       "3           12        2091  1.591802e+08       0.000013             66.382378   \n",
       "4           15        1587  7.233978e+08       0.000002             80.415227   \n",
       "\n",
       "   total_distance  straightness  mean_heading_change      duration  \\\n",
       "0   117331.344816      0.118644             0.507563  299460000000   \n",
       "1    72845.343283      0.070770             0.646714  346740000000   \n",
       "2    85126.662327      0.360045             0.563577  208300000000   \n",
       "3   138739.169630      0.010805             0.558058  355540000000   \n",
       "4   127538.550565      0.204191             0.539375  340810000000   \n",
       "\n",
       "       length  cluster      pca1      pca2 predicted_label  \n",
       "0  118.952195        0  1.217997  1.156326           RURAL  \n",
       "1   75.038270        2  0.264000 -1.839574           URBAN  \n",
       "2   86.281243        1 -2.774247  4.094970        SUBURBAN  \n",
       "3  140.722367        0  3.502377  0.238572           RURAL  \n",
       "4  128.919145        0  1.913714  3.517660           RURAL  "
      ]
     },
     "execution_count": 6,
     "metadata": {},
     "output_type": "execute_result"
    }
   ],
   "source": [
    "import pandas as pd\n",
    "df = pd.read_csv(\"../3_Analysis_on_Extracted_Data/tracking_features_with_labels.csv\")\n",
    "df.head()"
   ]
  },
  {
   "cell_type": "code",
   "execution_count": 7,
   "id": "b6428080",
   "metadata": {},
   "outputs": [
    {
     "name": "stdout",
     "output_type": "stream",
     "text": [
      "Classification Report:\n",
      "              precision    recall  f1-score   support\n",
      "\n",
      "       RURAL       0.97      0.98      0.98      2270\n",
      "    SUBURBAN       0.97      0.96      0.96      1073\n",
      "        TOWN       0.97      0.96      0.97      3586\n",
      "       URBAN       0.96      0.96      0.96      1900\n",
      "\n",
      "    accuracy                           0.97      8829\n",
      "   macro avg       0.97      0.97      0.97      8829\n",
      "weighted avg       0.97      0.97      0.97      8829\n",
      "\n",
      "Confusion Matrix:\n",
      "[[2232    7   18   13]\n",
      " [   7 1029   36    1]\n",
      " [  39   25 3456   66]\n",
      " [  19    3   57 1821]]\n"
     ]
    }
   ],
   "source": [
    "from sklearn.ensemble import RandomForestClassifier\n",
    "from sklearn.model_selection import train_test_split\n",
    "from sklearn.metrics import classification_report, confusion_matrix\n",
    "# from sklearn.tree import DecisionTreeClassifier\n",
    "features = df.drop(columns=[\"tracking_id\", \"cluster\", \"predicted_label\", \"pca1\", \"pca2\"])\n",
    "labels = df[\"predicted_label\"]\n",
    "\n",
    "X_train, X_test, y_train, y_test = train_test_split(features, labels, test_size=0.2, random_state=42)\n",
    "\n",
    "clf = RandomForestClassifier(n_estimators=100, random_state=42)\n",
    "clf.fit(X_train, y_train)\n",
    "\n",
    "y_pred = clf.predict(X_test)\n",
    "print(\"Classification Report:\")\n",
    "print(classification_report(y_test, y_pred))\n",
    "print(\"Confusion Matrix:\")\n",
    "print(confusion_matrix(y_test, y_pred))\n"
   ]
  },
  {
   "cell_type": "code",
   "execution_count": 8,
   "id": "460d4feb",
   "metadata": {},
   "outputs": [
    {
     "data": {
      "text/plain": [
       "['rf_area_classifier_full.pkl']"
      ]
     },
     "execution_count": 8,
     "metadata": {},
     "output_type": "execute_result"
    }
   ],
   "source": [
    "import joblib\n",
    "joblib.dump(clf, \"rf_area_classifier_full.pkl\")\n"
   ]
  },
  {
   "cell_type": "code",
   "execution_count": 9,
   "id": "35b237ce",
   "metadata": {},
   "outputs": [
    {
     "data": {
      "image/png": "[encoded data removed]",
      "text/plain": [
       "<Figure size 1000x600 with 1 Axes>"
      ]
     },
     "metadata": {},
     "output_type": "display_data"
    }
   ],
   "source": [
    "import pandas as pd\n",
    "import matplotlib.pyplot as plt\n",
    "import seaborn as sns\n",
    "import joblib\n",
    "\n",
    "clf = joblib.load(\"rf_area_classifier_full.pkl\")\n",
    "\n",
    "importances = clf.feature_importances_\n",
    "feature_names = X_train.columns\n",
    "\n",
    "plt.figure(figsize=(10, 6))\n",
    "sns.barplot(x=importances, y=feature_names)\n",
    "plt.title(\"Feature Importance (Random Forest)\")\n",
    "plt.xlabel(\"Importance\")\n",
    "plt.ylabel(\"Feature\")\n",
    "plt.tight_layout()\n",
    "plt.show()\n"
   ]
  },
  {
   "cell_type": "code",
   "execution_count": null,
   "id": "2632adac",
   "metadata": {},
   "outputs": [],
   "source": [
    "from sklearn.model_selection import cross_val_score, StratifiedKFold\n",
    "import numpy as np\n",
    "\n",
    "skf = StratifiedKFold(n_splits=10, shuffle=True, random_state=42)\n",
    "\n",
    "scores = cross_val_score(clf, features, labels, cv=skf, scoring=\"accuracy\")\n",
    "\n",
    "print(\"Cross-Validation Scores:\", scores)\n",
    "print(\"Mean Accuracy:\", np.mean(scores))\n",
    "print(\"Std Dev:\", np.std(scores))\n"
   ]
  }
 ],
 "metadata": {
  "kernelspec": {
   "display_name": ".venv",
   "language": "python",
   "name": "python3"
  },
  "language_info": {
   "codemirror_mode": {
    "name": "ipython",
    "version": 3
   },
   "file_extension": ".py",
   "mimetype": "text/x-python",
   "name": "python",
   "nbconvert_exporter": "python",
   "pygments_lexer": "ipython3",
   "version": "3.10.12"
  }
 },
 "nbformat": 4,
 "nbformat_minor": 5
}
