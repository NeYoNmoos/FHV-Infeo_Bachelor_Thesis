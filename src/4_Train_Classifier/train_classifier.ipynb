{
 "cells": [
  {
   "cell_type": "code",
   "execution_count": 30,
   "id": "5e3f9190",
   "metadata": {},
   "outputs": [
    {
     "data": {
      "text/html": [
       "<div>\n",
       "<style scoped>\n",
       "    .dataframe tbody tr th:only-of-type {\n",
       "        vertical-align: middle;\n",
       "    }\n",
       "\n",
       "    .dataframe tbody tr th {\n",
       "        vertical-align: top;\n",
       "    }\n",
       "\n",
       "    .dataframe thead th {\n",
       "        text-align: right;\n",
       "    }\n",
       "</style>\n",
       "<table border=\"1\" class=\"dataframe\">\n",
       "  <thead>\n",
       "    <tr style=\"text-align: right;\">\n",
       "      <th></th>\n",
       "      <th>tracking_id</th>\n",
       "      <th>num_points</th>\n",
       "      <th>bbox_area</th>\n",
       "      <th>point_density</th>\n",
       "      <th>avg_segment_distance</th>\n",
       "      <th>num_stops</th>\n",
       "      <th>cluster</th>\n",
       "      <th>pca1</th>\n",
       "      <th>pca2</th>\n",
       "      <th>predicted_label</th>\n",
       "    </tr>\n",
       "  </thead>\n",
       "  <tbody>\n",
       "    <tr>\n",
       "      <th>0</th>\n",
       "      <td>59</td>\n",
       "      <td>72</td>\n",
       "      <td>0.001813</td>\n",
       "      <td>39681.685256</td>\n",
       "      <td>104.093826</td>\n",
       "      <td>72</td>\n",
       "      <td>1</td>\n",
       "      <td>-2.241864</td>\n",
       "      <td>0.205205</td>\n",
       "      <td>TOWN</td>\n",
       "    </tr>\n",
       "    <tr>\n",
       "      <th>1</th>\n",
       "      <td>65</td>\n",
       "      <td>154</td>\n",
       "      <td>0.006207</td>\n",
       "      <td>24806.119875</td>\n",
       "      <td>103.039632</td>\n",
       "      <td>154</td>\n",
       "      <td>1</td>\n",
       "      <td>0.386280</td>\n",
       "      <td>0.258988</td>\n",
       "      <td>TOWN</td>\n",
       "    </tr>\n",
       "    <tr>\n",
       "      <th>2</th>\n",
       "      <td>87</td>\n",
       "      <td>14</td>\n",
       "      <td>0.002002</td>\n",
       "      <td>6988.110554</td>\n",
       "      <td>508.602238</td>\n",
       "      <td>14</td>\n",
       "      <td>2</td>\n",
       "      <td>-4.173158</td>\n",
       "      <td>4.489206</td>\n",
       "      <td>RURAL</td>\n",
       "    </tr>\n",
       "    <tr>\n",
       "      <th>3</th>\n",
       "      <td>172</td>\n",
       "      <td>253</td>\n",
       "      <td>0.000831</td>\n",
       "      <td>304095.272770</td>\n",
       "      <td>50.290536</td>\n",
       "      <td>253</td>\n",
       "      <td>0</td>\n",
       "      <td>2.782610</td>\n",
       "      <td>-2.076422</td>\n",
       "      <td>SUBURBAN</td>\n",
       "    </tr>\n",
       "    <tr>\n",
       "      <th>4</th>\n",
       "      <td>438</td>\n",
       "      <td>171</td>\n",
       "      <td>0.000783</td>\n",
       "      <td>218040.167779</td>\n",
       "      <td>79.507189</td>\n",
       "      <td>171</td>\n",
       "      <td>0</td>\n",
       "      <td>0.454438</td>\n",
       "      <td>-1.142324</td>\n",
       "      <td>SUBURBAN</td>\n",
       "    </tr>\n",
       "  </tbody>\n",
       "</table>\n",
       "</div>"
      ],
      "text/plain": [
       "   tracking_id  num_points  bbox_area  point_density  avg_segment_distance  \\\n",
       "0           59          72   0.001813   39681.685256            104.093826   \n",
       "1           65         154   0.006207   24806.119875            103.039632   \n",
       "2           87          14   0.002002    6988.110554            508.602238   \n",
       "3          172         253   0.000831  304095.272770             50.290536   \n",
       "4          438         171   0.000783  218040.167779             79.507189   \n",
       "\n",
       "   num_stops  cluster      pca1      pca2 predicted_label  \n",
       "0         72        1 -2.241864  0.205205            TOWN  \n",
       "1        154        1  0.386280  0.258988            TOWN  \n",
       "2         14        2 -4.173158  4.489206           RURAL  \n",
       "3        253        0  2.782610 -2.076422        SUBURBAN  \n",
       "4        171        0  0.454438 -1.142324        SUBURBAN  "
      ]
     },
     "execution_count": 30,
     "metadata": {},
     "output_type": "execute_result"
    }
   ],
   "source": [
    "import pandas as pd\n",
    "df = pd.read_csv(\"../3_Analysis_on_Extracted_Data/tracking_features_with_labels.csv\")\n",
    "df.head()"
   ]
  },
  {
   "cell_type": "code",
   "execution_count": 31,
   "id": "b6428080",
   "metadata": {},
   "outputs": [
    {
     "name": "stdout",
     "output_type": "stream",
     "text": [
      "Classification Report:\n",
      "              precision    recall  f1-score   support\n",
      "\n",
      "       RURAL       0.86      0.86      0.86        22\n",
      "    SUBURBAN       0.94      0.98      0.96        49\n",
      "        TOWN       0.99      0.97      0.98        76\n",
      "       URBAN       1.00      0.91      0.95        11\n",
      "\n",
      "    accuracy                           0.96       158\n",
      "   macro avg       0.95      0.93      0.94       158\n",
      "weighted avg       0.96      0.96      0.96       158\n",
      "\n",
      "Confusion Matrix:\n",
      "[[19  3  0  0]\n",
      " [ 1 48  0  0]\n",
      " [ 2  0 74  0]\n",
      " [ 0  0  1 10]]\n"
     ]
    }
   ],
   "source": [
    "from sklearn.ensemble import RandomForestClassifier\n",
    "from sklearn.model_selection import train_test_split\n",
    "from sklearn.metrics import classification_report, confusion_matrix\n",
    "# from sklearn.tree import DecisionTreeClassifier\n",
    "features = df.drop(columns=[\"tracking_id\", \"cluster\", \"predicted_label\", \"pca1\", \"pca2\"])\n",
    "labels = df[\"predicted_label\"]\n",
    "\n",
    "X_train, X_test, y_train, y_test = train_test_split(features, labels, test_size=0.2, random_state=42)\n",
    "\n",
    "clf = RandomForestClassifier(n_estimators=100, random_state=42)\n",
    "clf.fit(X_train, y_train)\n",
    "\n",
    "y_pred = clf.predict(X_test)\n",
    "print(\"Classification Report:\")\n",
    "print(classification_report(y_test, y_pred))\n",
    "print(\"Confusion Matrix:\")\n",
    "print(confusion_matrix(y_test, y_pred))\n"
   ]
  },
  {
   "cell_type": "code",
   "execution_count": 32,
   "id": "460d4feb",
   "metadata": {},
   "outputs": [
    {
     "data": {
      "text/plain": [
       "['rf_area_classifier.pkl']"
      ]
     },
     "execution_count": 32,
     "metadata": {},
     "output_type": "execute_result"
    }
   ],
   "source": [
    "import joblib\n",
    "joblib.dump(clf, \"rf_area_classifier.pkl\")\n"
   ]
  },
  {
   "cell_type": "code",
   "execution_count": 33,
   "id": "35b237ce",
   "metadata": {},
   "outputs": [
    {
     "data": {
      "image/png": "[encoded data removed]",
      "text/plain": [
       "<Figure size 1000x600 with 1 Axes>"
      ]
     },
     "metadata": {},
     "output_type": "display_data"
    }
   ],
   "source": [
    "import pandas as pd\n",
    "import matplotlib.pyplot as plt\n",
    "import seaborn as sns\n",
    "import joblib\n",
    "\n",
    "clf = joblib.load(\"rf_area_classifier.pkl\")\n",
    "\n",
    "importances = clf.feature_importances_\n",
    "feature_names = X_train.columns\n",
    "\n",
    "plt.figure(figsize=(10, 6))\n",
    "sns.barplot(x=importances, y=feature_names)\n",
    "plt.title(\"Feature Importance (Random Forest)\")\n",
    "plt.xlabel(\"Importance\")\n",
    "plt.ylabel(\"Feature\")\n",
    "plt.tight_layout()\n",
    "plt.show()\n"
   ]
  },
  {
   "cell_type": "code",
   "execution_count": 34,
   "id": "2632adac",
   "metadata": {},
   "outputs": [
    {
     "name": "stdout",
     "output_type": "stream",
     "text": [
      "Cross-Validation Scores: [0.97468354 0.94936709 0.96202532 0.97468354 0.96202532 0.96202532\n",
      " 0.97468354 0.98717949 1.         1.        ]\n",
      "Mean Accuracy: 0.9746673158065564\n",
      "Std Dev: 0.01599877163574745\n"
     ]
    }
   ],
   "source": [
    "from sklearn.model_selection import cross_val_score, StratifiedKFold\n",
    "import numpy as np\n",
    "\n",
    "skf = StratifiedKFold(n_splits=10, shuffle=True, random_state=42)\n",
    "\n",
    "scores = cross_val_score(clf, features, labels, cv=skf, scoring=\"accuracy\")\n",
    "\n",
    "print(\"Cross-Validation Scores:\", scores)\n",
    "print(\"Mean Accuracy:\", np.mean(scores))\n",
    "print(\"Std Dev:\", np.std(scores))\n"
   ]
  }
 ],
 "metadata": {
  "kernelspec": {
   "display_name": ".venv",
   "language": "python",
   "name": "python3"
  },
  "language_info": {
   "codemirror_mode": {
    "name": "ipython",
    "version": 3
   },
   "file_extension": ".py",
   "mimetype": "text/x-python",
   "name": "python",
   "nbconvert_exporter": "python",
   "pygments_lexer": "ipython3",
   "version": "3.10.12"
  }
 },
 "nbformat": 4,
 "nbformat_minor": 5
}
