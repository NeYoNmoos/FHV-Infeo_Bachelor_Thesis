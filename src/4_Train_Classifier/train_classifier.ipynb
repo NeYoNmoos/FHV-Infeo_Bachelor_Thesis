{
 "cells": [
  {
   "cell_type": "code",
   "execution_count": 1,
   "id": "5e3f9190",
   "metadata": {},
   "outputs": [
    {
     "data": {
      "text/html": [
       "<div>\n",
       "<style scoped>\n",
       "    .dataframe tbody tr th:only-of-type {\n",
       "        vertical-align: middle;\n",
       "    }\n",
       "\n",
       "    .dataframe tbody tr th {\n",
       "        vertical-align: top;\n",
       "    }\n",
       "\n",
       "    .dataframe thead th {\n",
       "        text-align: right;\n",
       "    }\n",
       "</style>\n",
       "<table border=\"1\" class=\"dataframe\">\n",
       "  <thead>\n",
       "    <tr style=\"text-align: right;\">\n",
       "      <th></th>\n",
       "      <th>tracking_id</th>\n",
       "      <th>num_points</th>\n",
       "      <th>bbox_area</th>\n",
       "      <th>point_density</th>\n",
       "      <th>avg_segment_distance</th>\n",
       "      <th>num_stops</th>\n",
       "      <th>duration</th>\n",
       "      <th>length</th>\n",
       "      <th>cluster</th>\n",
       "      <th>pca1</th>\n",
       "      <th>pca2</th>\n",
       "      <th>predicted_label</th>\n",
       "    </tr>\n",
       "  </thead>\n",
       "  <tbody>\n",
       "    <tr>\n",
       "      <th>0</th>\n",
       "      <td>7</td>\n",
       "      <td>1893</td>\n",
       "      <td>0.020102</td>\n",
       "      <td>94163.475771</td>\n",
       "      <td>62.014453</td>\n",
       "      <td>1893</td>\n",
       "      <td>299460000000</td>\n",
       "      <td>118.952195</td>\n",
       "      <td>0</td>\n",
       "      <td>1.609326</td>\n",
       "      <td>0.884110</td>\n",
       "      <td>RURAL</td>\n",
       "    </tr>\n",
       "    <tr>\n",
       "      <th>1</th>\n",
       "      <td>8</td>\n",
       "      <td>1752</td>\n",
       "      <td>0.004143</td>\n",
       "      <td>422811.577870</td>\n",
       "      <td>41.602138</td>\n",
       "      <td>1752</td>\n",
       "      <td>346740000000</td>\n",
       "      <td>75.038270</td>\n",
       "      <td>1</td>\n",
       "      <td>1.917505</td>\n",
       "      <td>-1.713543</td>\n",
       "      <td>SUBURBAN</td>\n",
       "    </tr>\n",
       "    <tr>\n",
       "      <th>2</th>\n",
       "      <td>11</td>\n",
       "      <td>1224</td>\n",
       "      <td>0.059016</td>\n",
       "      <td>20739.850042</td>\n",
       "      <td>69.604793</td>\n",
       "      <td>1224</td>\n",
       "      <td>208300000000</td>\n",
       "      <td>86.281243</td>\n",
       "      <td>2</td>\n",
       "      <td>-1.735498</td>\n",
       "      <td>1.807416</td>\n",
       "      <td>TOWN</td>\n",
       "    </tr>\n",
       "    <tr>\n",
       "      <th>3</th>\n",
       "      <td>12</td>\n",
       "      <td>2091</td>\n",
       "      <td>0.019318</td>\n",
       "      <td>108238.062218</td>\n",
       "      <td>66.382378</td>\n",
       "      <td>2091</td>\n",
       "      <td>355540000000</td>\n",
       "      <td>140.722367</td>\n",
       "      <td>1</td>\n",
       "      <td>2.853082</td>\n",
       "      <td>1.272948</td>\n",
       "      <td>SUBURBAN</td>\n",
       "    </tr>\n",
       "    <tr>\n",
       "      <th>4</th>\n",
       "      <td>15</td>\n",
       "      <td>1587</td>\n",
       "      <td>0.087849</td>\n",
       "      <td>18064.875589</td>\n",
       "      <td>80.415227</td>\n",
       "      <td>1587</td>\n",
       "      <td>340810000000</td>\n",
       "      <td>128.919145</td>\n",
       "      <td>0</td>\n",
       "      <td>0.711379</td>\n",
       "      <td>3.529854</td>\n",
       "      <td>RURAL</td>\n",
       "    </tr>\n",
       "  </tbody>\n",
       "</table>\n",
       "</div>"
      ],
      "text/plain": [
       "   tracking_id  num_points  bbox_area  point_density  avg_segment_distance  \\\n",
       "0            7        1893   0.020102   94163.475771             62.014453   \n",
       "1            8        1752   0.004143  422811.577870             41.602138   \n",
       "2           11        1224   0.059016   20739.850042             69.604793   \n",
       "3           12        2091   0.019318  108238.062218             66.382378   \n",
       "4           15        1587   0.087849   18064.875589             80.415227   \n",
       "\n",
       "   num_stops      duration      length  cluster      pca1      pca2  \\\n",
       "0       1893  299460000000  118.952195        0  1.609326  0.884110   \n",
       "1       1752  346740000000   75.038270        1  1.917505 -1.713543   \n",
       "2       1224  208300000000   86.281243        2 -1.735498  1.807416   \n",
       "3       2091  355540000000  140.722367        1  2.853082  1.272948   \n",
       "4       1587  340810000000  128.919145        0  0.711379  3.529854   \n",
       "\n",
       "  predicted_label  \n",
       "0           RURAL  \n",
       "1        SUBURBAN  \n",
       "2            TOWN  \n",
       "3        SUBURBAN  \n",
       "4           RURAL  "
      ]
     },
     "execution_count": 1,
     "metadata": {},
     "output_type": "execute_result"
    }
   ],
   "source": [
    "import pandas as pd\n",
    "df = pd.read_csv(\"../3_Analysis_on_Extracted_Data/tracking_features_with_labels.csv\")\n",
    "df.head()"
   ]
  },
  {
   "cell_type": "code",
   "execution_count": 2,
   "id": "b6428080",
   "metadata": {},
   "outputs": [
    {
     "name": "stdout",
     "output_type": "stream",
     "text": [
      "Classification Report:\n",
      "              precision    recall  f1-score   support\n",
      "\n",
      "       RURAL       0.98      0.98      0.98      1729\n",
      "    SUBURBAN       0.98      0.98      0.98      1418\n",
      "        TOWN       0.97      0.98      0.98      1899\n",
      "       URBAN       0.99      0.99      0.99      3989\n",
      "\n",
      "    accuracy                           0.98      9035\n",
      "   macro avg       0.98      0.98      0.98      9035\n",
      "weighted avg       0.98      0.98      0.98      9035\n",
      "\n",
      "Confusion Matrix:\n",
      "[[1696   12   14    7]\n",
      " [  15 1396    0    7]\n",
      " [  14    0 1857   28]\n",
      " [  10   11   37 3931]]\n"
     ]
    }
   ],
   "source": [
    "from sklearn.ensemble import RandomForestClassifier\n",
    "from sklearn.model_selection import train_test_split\n",
    "from sklearn.metrics import classification_report, confusion_matrix\n",
    "# from sklearn.tree import DecisionTreeClassifier\n",
    "features = df.drop(columns=[\"tracking_id\", \"cluster\", \"predicted_label\", \"pca1\", \"pca2\"])\n",
    "labels = df[\"predicted_label\"]\n",
    "\n",
    "X_train, X_test, y_train, y_test = train_test_split(features, labels, test_size=0.2, random_state=42)\n",
    "\n",
    "clf = RandomForestClassifier(n_estimators=100, random_state=42)\n",
    "clf.fit(X_train, y_train)\n",
    "\n",
    "y_pred = clf.predict(X_test)\n",
    "print(\"Classification Report:\")\n",
    "print(classification_report(y_test, y_pred))\n",
    "print(\"Confusion Matrix:\")\n",
    "print(confusion_matrix(y_test, y_pred))\n"
   ]
  },
  {
   "cell_type": "code",
   "execution_count": 3,
   "id": "460d4feb",
   "metadata": {},
   "outputs": [
    {
     "data": {
      "text/plain": [
       "['rf_area_classifier_full.pkl']"
      ]
     },
     "execution_count": 3,
     "metadata": {},
     "output_type": "execute_result"
    }
   ],
   "source": [
    "import joblib\n",
    "joblib.dump(clf, \"rf_area_classifier_full.pkl\")\n"
   ]
  },
  {
   "cell_type": "code",
   "execution_count": 4,
   "id": "35b237ce",
   "metadata": {},
   "outputs": [
    {
     "data": {
      "image/png": "[encoded data removed]",
      "text/plain": [
       "<Figure size 1000x600 with 1 Axes>"
      ]
     },
     "metadata": {},
     "output_type": "display_data"
    }
   ],
   "source": [
    "import pandas as pd\n",
    "import matplotlib.pyplot as plt\n",
    "import seaborn as sns\n",
    "import joblib\n",
    "\n",
    "clf = joblib.load(\"rf_area_classifier_full.pkl\")\n",
    "\n",
    "importances = clf.feature_importances_\n",
    "feature_names = X_train.columns\n",
    "\n",
    "plt.figure(figsize=(10, 6))\n",
    "sns.barplot(x=importances, y=feature_names)\n",
    "plt.title(\"Feature Importance (Random Forest)\")\n",
    "plt.xlabel(\"Importance\")\n",
    "plt.ylabel(\"Feature\")\n",
    "plt.tight_layout()\n",
    "plt.show()\n"
   ]
  },
  {
   "cell_type": "code",
   "execution_count": 5,
   "id": "2632adac",
   "metadata": {},
   "outputs": [
    {
     "name": "stdout",
     "output_type": "stream",
     "text": [
      "Cross-Validation Scores: [0.98273572 0.9831784  0.98185038 0.98029666 0.98162497 0.98251052\n",
      " 0.98029666 0.98383883 0.98073943 0.98361745]\n",
      "Mean Accuracy: 0.9820689004981722\n",
      "Std Dev: 0.0012528096230043622\n"
     ]
    }
   ],
   "source": [
    "from sklearn.model_selection import cross_val_score, StratifiedKFold\n",
    "import numpy as np\n",
    "\n",
    "skf = StratifiedKFold(n_splits=10, shuffle=True, random_state=42)\n",
    "\n",
    "scores = cross_val_score(clf, features, labels, cv=skf, scoring=\"accuracy\")\n",
    "\n",
    "print(\"Cross-Validation Scores:\", scores)\n",
    "print(\"Mean Accuracy:\", np.mean(scores))\n",
    "print(\"Std Dev:\", np.std(scores))\n"
   ]
  }
 ],
 "metadata": {
  "kernelspec": {
   "display_name": ".venv",
   "language": "python",
   "name": "python3"
  },
  "language_info": {
   "codemirror_mode": {
    "name": "ipython",
    "version": 3
   },
   "file_extension": ".py",
   "mimetype": "text/x-python",
   "name": "python",
   "nbconvert_exporter": "python",
   "pygments_lexer": "ipython3",
   "version": "3.10.12"
  }
 },
 "nbformat": 4,
 "nbformat_minor": 5
}
