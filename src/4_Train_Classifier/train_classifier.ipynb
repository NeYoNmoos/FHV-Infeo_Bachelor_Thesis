{
 "cells": [
  {
   "cell_type": "code",
   "execution_count": 8,
   "id": "5e3f9190",
   "metadata": {},
   "outputs": [
    {
     "data": {
      "text/html": [
       "<div>\n",
       "<style scoped>\n",
       "    .dataframe tbody tr th:only-of-type {\n",
       "        vertical-align: middle;\n",
       "    }\n",
       "\n",
       "    .dataframe tbody tr th {\n",
       "        vertical-align: top;\n",
       "    }\n",
       "\n",
       "    .dataframe thead th {\n",
       "        text-align: right;\n",
       "    }\n",
       "</style>\n",
       "<table border=\"1\" class=\"dataframe\">\n",
       "  <thead>\n",
       "    <tr style=\"text-align: right;\">\n",
       "      <th></th>\n",
       "      <th>tracking_id</th>\n",
       "      <th>num_points</th>\n",
       "      <th>bbox_area</th>\n",
       "      <th>point_density</th>\n",
       "      <th>avg_segment_distance</th>\n",
       "      <th>num_stops</th>\n",
       "      <th>cluster</th>\n",
       "      <th>pca1</th>\n",
       "      <th>pca2</th>\n",
       "      <th>predicted_label</th>\n",
       "    </tr>\n",
       "  </thead>\n",
       "  <tbody>\n",
       "    <tr>\n",
       "      <th>0</th>\n",
       "      <td>59</td>\n",
       "      <td>72</td>\n",
       "      <td>0.001813</td>\n",
       "      <td>39681.685256</td>\n",
       "      <td>104.093826</td>\n",
       "      <td>72</td>\n",
       "      <td>1</td>\n",
       "      <td>-1.241092</td>\n",
       "      <td>-0.515201</td>\n",
       "      <td>TOWN</td>\n",
       "    </tr>\n",
       "    <tr>\n",
       "      <th>1</th>\n",
       "      <td>65</td>\n",
       "      <td>154</td>\n",
       "      <td>0.006207</td>\n",
       "      <td>24806.119875</td>\n",
       "      <td>103.039632</td>\n",
       "      <td>154</td>\n",
       "      <td>1</td>\n",
       "      <td>-0.030022</td>\n",
       "      <td>0.038345</td>\n",
       "      <td>TOWN</td>\n",
       "    </tr>\n",
       "    <tr>\n",
       "      <th>2</th>\n",
       "      <td>78</td>\n",
       "      <td>237</td>\n",
       "      <td>0.046257</td>\n",
       "      <td>5123.419281</td>\n",
       "      <td>153.782723</td>\n",
       "      <td>237</td>\n",
       "      <td>0</td>\n",
       "      <td>1.011410</td>\n",
       "      <td>2.180849</td>\n",
       "      <td>SUBURBAN</td>\n",
       "    </tr>\n",
       "    <tr>\n",
       "      <th>3</th>\n",
       "      <td>87</td>\n",
       "      <td>14</td>\n",
       "      <td>0.002002</td>\n",
       "      <td>6988.110554</td>\n",
       "      <td>508.602238</td>\n",
       "      <td>14</td>\n",
       "      <td>1</td>\n",
       "      <td>-2.481341</td>\n",
       "      <td>0.018362</td>\n",
       "      <td>TOWN</td>\n",
       "    </tr>\n",
       "    <tr>\n",
       "      <th>4</th>\n",
       "      <td>172</td>\n",
       "      <td>253</td>\n",
       "      <td>0.000831</td>\n",
       "      <td>304095.272770</td>\n",
       "      <td>50.290536</td>\n",
       "      <td>253</td>\n",
       "      <td>0</td>\n",
       "      <td>1.661802</td>\n",
       "      <td>-0.039573</td>\n",
       "      <td>SUBURBAN</td>\n",
       "    </tr>\n",
       "  </tbody>\n",
       "</table>\n",
       "</div>"
      ],
      "text/plain": [
       "   tracking_id  num_points  bbox_area  point_density  avg_segment_distance  \\\n",
       "0           59          72   0.001813   39681.685256            104.093826   \n",
       "1           65         154   0.006207   24806.119875            103.039632   \n",
       "2           78         237   0.046257    5123.419281            153.782723   \n",
       "3           87          14   0.002002    6988.110554            508.602238   \n",
       "4          172         253   0.000831  304095.272770             50.290536   \n",
       "\n",
       "   num_stops  cluster      pca1      pca2 predicted_label  \n",
       "0         72        1 -1.241092 -0.515201            TOWN  \n",
       "1        154        1 -0.030022  0.038345            TOWN  \n",
       "2        237        0  1.011410  2.180849        SUBURBAN  \n",
       "3         14        1 -2.481341  0.018362            TOWN  \n",
       "4        253        0  1.661802 -0.039573        SUBURBAN  "
      ]
     },
     "execution_count": 8,
     "metadata": {},
     "output_type": "execute_result"
    }
   ],
   "source": [
    "import pandas as pd\n",
    "df = pd.read_csv(\"../3_Analysis_on_Extracted_Data/tracking_features_with_labels.csv\")\n",
    "df.head()"
   ]
  },
  {
   "cell_type": "code",
   "execution_count": null,
   "id": "b6428080",
   "metadata": {},
   "outputs": [
    {
     "name": "stdout",
     "output_type": "stream",
     "text": [
      "Classification Report:\n",
      "              precision    recall  f1-score   support\n",
      "\n",
      "       RURAL       0.00      0.00      0.00         0\n",
      "    SUBURBAN       1.00      0.97      0.99        35\n",
      "        TOWN       0.99      0.99      0.99       124\n",
      "       URBAN       1.00      1.00      1.00        11\n",
      "\n",
      "    accuracy                           0.99       170\n",
      "   macro avg       0.75      0.74      0.74       170\n",
      "weighted avg       0.99      0.99      0.99       170\n",
      "\n",
      "Confusion Matrix:\n",
      "[[  0   0   0   0]\n",
      " [  0  34   1   0]\n",
      " [  1   0 123   0]\n",
      " [  0   0   0  11]]\n"
     ]
    },
    {
     "name": "stderr",
     "output_type": "stream",
     "text": [
      "/home/neyon/fhv/bachelor_thesis_infeo/.venv/lib/python3.10/site-packages/sklearn/metrics/_classification.py:1565: UndefinedMetricWarning: Recall is ill-defined and being set to 0.0 in labels with no true samples. Use `zero_division` parameter to control this behavior.\n",
      "  _warn_prf(average, modifier, f\"{metric.capitalize()} is\", len(result))\n",
      "/home/neyon/fhv/bachelor_thesis_infeo/.venv/lib/python3.10/site-packages/sklearn/metrics/_classification.py:1565: UndefinedMetricWarning: Recall is ill-defined and being set to 0.0 in labels with no true samples. Use `zero_division` parameter to control this behavior.\n",
      "  _warn_prf(average, modifier, f\"{metric.capitalize()} is\", len(result))\n",
      "/home/neyon/fhv/bachelor_thesis_infeo/.venv/lib/python3.10/site-packages/sklearn/metrics/_classification.py:1565: UndefinedMetricWarning: Recall is ill-defined and being set to 0.0 in labels with no true samples. Use `zero_division` parameter to control this behavior.\n",
      "  _warn_prf(average, modifier, f\"{metric.capitalize()} is\", len(result))\n"
     ]
    }
   ],
   "source": [
    "from sklearn.ensemble import RandomForestClassifier\n",
    "from sklearn.model_selection import train_test_split\n",
    "from sklearn.metrics import classification_report, confusion_matrix\n",
    "\n",
    "features = df.drop(columns=[\"tracking_id\", \"cluster\", \"predicted_label\", \"pca1\", \"pca2\"])\n",
    "labels = df[\"predicted_label\"]\n",
    "\n",
    "X_train, X_test, y_train, y_test = train_test_split(features, labels, test_size=0.2, random_state=42)\n",
    "\n",
    "clf = RandomForestClassifier(n_estimators=100, random_state=42)\n",
    "clf.fit(X_train, y_train)\n",
    "\n",
    "y_pred = clf.predict(X_test)\n",
    "print(\"Classification Report:\")\n",
    "print(classification_report(y_test, y_pred))\n",
    "print(\"Confusion Matrix:\")\n",
    "print(confusion_matrix(y_test, y_pred))\n"
   ]
  },
  {
   "cell_type": "code",
   "execution_count": 10,
   "id": "460d4feb",
   "metadata": {},
   "outputs": [
    {
     "data": {
      "text/plain": [
       "['rf_area_classifier.pkl']"
      ]
     },
     "execution_count": 10,
     "metadata": {},
     "output_type": "execute_result"
    }
   ],
   "source": [
    "import joblib\n",
    "joblib.dump(clf, \"rf_area_classifier.pkl\")\n"
   ]
  },
  {
   "cell_type": "code",
   "execution_count": 11,
   "id": "35b237ce",
   "metadata": {},
   "outputs": [
    {
     "data": {
      "image/png": "[encoded data removed]",
      "text/plain": [
       "<Figure size 1000x600 with 1 Axes>"
      ]
     },
     "metadata": {},
     "output_type": "display_data"
    }
   ],
   "source": [
    "import pandas as pd\n",
    "import matplotlib.pyplot as plt\n",
    "import seaborn as sns\n",
    "import joblib\n",
    "\n",
    "clf = joblib.load(\"rf_area_classifier.pkl\")\n",
    "\n",
    "importances = clf.feature_importances_\n",
    "feature_names = X_train.columns\n",
    "\n",
    "plt.figure(figsize=(10, 6))\n",
    "sns.barplot(x=importances, y=feature_names)\n",
    "plt.title(\"Feature Importance (Random Forest)\")\n",
    "plt.xlabel(\"Importance\")\n",
    "plt.ylabel(\"Feature\")\n",
    "plt.tight_layout()\n",
    "plt.show()\n"
   ]
  },
  {
   "cell_type": "code",
   "execution_count": null,
   "id": "2632adac",
   "metadata": {},
   "outputs": [
    {
     "name": "stderr",
     "output_type": "stream",
     "text": [
      "/home/neyon/fhv/bachelor_thesis_infeo/.venv/lib/python3.10/site-packages/sklearn/model_selection/_split.py:805: UserWarning: The least populated class in y has only 4 members, which is less than n_splits=10.\n",
      "  warnings.warn(\n"
     ]
    },
    {
     "name": "stdout",
     "output_type": "stream",
     "text": [
      "Cross-Validation Scores: [0.98823529 0.98823529 1.         1.         0.98823529 1.\n",
      " 0.98823529 0.98823529 0.95294118 1.        ]\n",
      "Mean Accuracy: 0.9894117647058824\n",
      "Std Dev: 0.01336213728423595\n"
     ]
    }
   ],
   "source": [
    "from sklearn.model_selection import cross_val_score, StratifiedKFold\n",
    "import numpy as np\n",
    "\n",
    "skf = StratifiedKFold(n_splits=10, shuffle=True, random_state=42)\n",
    "\n",
    "scores = cross_val_score(clf, features, labels, cv=skf, scoring=\"accuracy\")\n",
    "\n",
    "print(\"Cross-Validation Scores:\", scores)\n",
    "print(\"Mean Accuracy:\", np.mean(scores))\n",
    "print(\"Std Dev:\", np.std(scores))\n"
   ]
  }
 ],
 "metadata": {
  "kernelspec": {
   "display_name": ".venv",
   "language": "python",
   "name": "python3"
  },
  "language_info": {
   "codemirror_mode": {
    "name": "ipython",
    "version": 3
   },
   "file_extension": ".py",
   "mimetype": "text/x-python",
   "name": "python",
   "nbconvert_exporter": "python",
   "pygments_lexer": "ipython3",
   "version": "3.10.12"
  }
 },
 "nbformat": 4,
 "nbformat_minor": 5
}
