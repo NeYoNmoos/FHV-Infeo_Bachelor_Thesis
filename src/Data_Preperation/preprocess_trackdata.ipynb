{
 "cells": [
  {
   "cell_type": "code",
   "execution_count": null,
   "metadata": {},
   "outputs": [
    {
     "name": "stdout",
     "output_type": "stream",
     "text": [
      "   id_tracking         id                time  type  sequence comment  speed  \\\n",
      "0        88926  107329270 2024-08-01 05:18:02     0        43    None    0.0   \n",
      "1        88926  107329271 2024-08-01 05:18:05     0        44    None    0.0   \n",
      "2        88926  107329272 2024-08-01 05:18:08     0        45    None    0.0   \n",
      "3        88926  107329273 2024-08-01 05:18:10     0        46    None    0.0   \n",
      "4        88926  107329274 2024-08-01 05:18:12     0        47    None    0.0   \n",
      "\n",
      "   heading  duration  block_type   log   latitude  longitude  altitude  \\\n",
      "0      0.0         0           0  None  47.069676  15.781769       0.0   \n",
      "1      0.0         0           0  None  47.069235  15.781806       0.0   \n",
      "2      0.0         0           0  None  47.068783  15.781572       0.0   \n",
      "3      0.0         0           0  None  47.068537  15.781260       0.0   \n",
      "4      0.0         0           0  None  47.068364  15.780865       0.0   \n",
      "\n",
      "   meta_tag meta_value  \n",
      "0         0             \n",
      "1         0             \n",
      "2         0             \n",
      "3         0             \n",
      "4         0             \n",
      "<class 'pandas.core.frame.DataFrame'>\n",
      "RangeIndex: 129967 entries, 0 to 129966\n",
      "Data columns (total 16 columns):\n",
      " #   Column       Non-Null Count   Dtype         \n",
      "---  ------       --------------   -----         \n",
      " 0   id_tracking  129967 non-null  int64         \n",
      " 1   id           129967 non-null  int64         \n",
      " 2   time         129967 non-null  datetime64[ns]\n",
      " 3   type         129967 non-null  int64         \n",
      " 4   sequence     129967 non-null  int64         \n",
      " 5   comment      0 non-null       object        \n",
      " 6   speed        129967 non-null  float64       \n",
      " 7   heading      129967 non-null  float64       \n",
      " 8   duration     129967 non-null  int64         \n",
      " 9   block_type   129967 non-null  int64         \n",
      " 10  log          0 non-null       object        \n",
      " 11  latitude     129967 non-null  float64       \n",
      " 12  longitude    129967 non-null  float64       \n",
      " 13  altitude     129967 non-null  float64       \n",
      " 14  meta_tag     129967 non-null  int64         \n",
      " 15  meta_value   129967 non-null  object        \n",
      "dtypes: datetime64[ns](1), float64(5), int64(7), object(3)\n",
      "memory usage: 15.9+ MB\n",
      "None\n"
     ]
    }
   ],
   "source": [
    "import pandas as pd\n",
    "\n",
    "df = pd.read_parquet(\"gps_data_relaxed_parameters_more.parquet\")\n",
    "\n",
    "df[\"time\"] = pd.to_datetime(df[\"time\"])\n",
    "\n",
    "print(df.head())\n",
    "print(df.info())\n",
    "\n",
    "numeric_columns = [\"speed\", \"heading\", \"latitude\", \"longitude\", \"altitude\"]\n",
    "df[numeric_columns] = df[numeric_columns].astype(float)\n"
   ]
  },
  {
   "cell_type": "code",
   "execution_count": null,
   "metadata": {},
   "outputs": [
    {
     "name": "stdout",
     "output_type": "stream",
     "text": [
      "   lat_mean   lat_min   lat_max  lon_mean   lon_min   lon_max  duration_sec  \\\n",
      "0  1.480474  1.491130  1.458440  0.632649  0.646100  0.619220     -0.719479   \n",
      "1  1.481229  1.490236  1.496883  0.657559  0.658506  0.652613     -0.616567   \n",
      "2  1.745272  1.650029  1.909924  0.629823  0.592652  0.650832     -0.232226   \n",
      "3  1.312990  1.343624  1.300467  0.684495  0.696467  0.672573      0.510204   \n",
      "4  2.083682  2.146057  2.032515  0.715293  0.727103  0.699668      0.482902   \n",
      "\n",
      "   speed_mean  speed_std  heading_variability  id_tracking  \n",
      "0         0.0        0.0                  0.0           59  \n",
      "1         0.0        0.0                  0.0           65  \n",
      "2         0.0        0.0                  0.0           78  \n",
      "3         0.0        0.0                  0.0           87  \n",
      "4         0.0        0.0                  0.0          172  \n"
     ]
    }
   ],
   "source": [
    "track_features = df.groupby(\"id_tracking\").agg({\n",
    "    \"latitude\": [\"mean\", \"min\", \"max\"], \n",
    "    \"longitude\": [\"mean\", \"min\", \"max\"],\n",
    "    \"time\": [lambda x: (x.max() - x.min()).total_seconds()], \n",
    "    \"speed\": [\"mean\", \"std\"],  \n",
    "    \"heading\": [\"std\"], \n",
    "}).reset_index()\n",
    "\n",
    "track_features.columns = [\"id_tracking\", \"lat_mean\", \"lat_min\", \"lat_max\",\n",
    "                          \"lon_mean\", \"lon_min\", \"lon_max\", \n",
    "                          \"duration_sec\", \"speed_mean\", \"speed_std\", \"heading_variability\"]\n",
    "\n",
    "from sklearn.preprocessing import StandardScaler\n",
    "\n",
    "scaler = StandardScaler()\n",
    "track_features_scaled = scaler.fit_transform(track_features.drop(\"id_tracking\", axis=1))\n",
    "\n",
    "track_features_scaled_df = pd.DataFrame(track_features_scaled, columns=track_features.columns[1:])\n",
    "track_features_scaled_df[\"id_tracking\"] = track_features[\"id_tracking\"]\n",
    "\n",
    "print(track_features_scaled_df.head())\n"
   ]
  },
  {
   "cell_type": "code",
   "execution_count": null,
   "metadata": {},
   "outputs": [
    {
     "name": "stdout",
     "output_type": "stream",
     "text": [
      "DTW distance between track 59.0 and track 65.0: 8.494140141088382\n"
     ]
    }
   ],
   "source": [
    "from fastdtw import fastdtw\n",
    "from scipy.spatial.distance import euclidean\n",
    "\n",
    "track1_id = track_features.iloc[0][\"id_tracking\"]\n",
    "track2_id = track_features.iloc[1][\"id_tracking\"]\n",
    "\n",
    "track1 = df[df[\"id_tracking\"] == track1_id][[\"latitude\", \"longitude\"]].values\n",
    "track2 = df[df[\"id_tracking\"] == track2_id][[\"latitude\", \"longitude\"]].values\n",
    "\n",
    "distance, _ = fastdtw(track1, track2, dist=euclidean)\n",
    "\n",
    "print(f\"DTW distance between track {track1_id} and track {track2_id}: {distance}\")\n"
   ]
  },
  {
   "cell_type": "code",
   "execution_count": null,
   "metadata": {},
   "outputs": [
    {
     "name": "stdout",
     "output_type": "stream",
     "text": [
      "Closest Routes to New Path:\n",
      "     id_tracking   lat_mean    lat_min    lat_max   lon_mean    lon_min  \\\n",
      "743        83041  47.474826  47.425455  47.491522   9.671329   9.661372   \n",
      "726        81581  47.476995  47.464238  47.479114   9.684944   9.670762   \n",
      "838        99440  48.255467  48.210260  48.298840  14.301365  14.273230   \n",
      "6            438  48.408271  48.399322  48.416802  12.795485  12.775661   \n",
      "12           932  48.395934  48.352036  48.445736  12.729184  12.557832   \n",
      "\n",
      "       lon_max  duration_sec  speed_mean  speed_std  heading_variability  \n",
      "743   9.777867       21892.0         0.0        0.0                  0.0  \n",
      "726   9.688858       16184.0         0.0        0.0                  0.0  \n",
      "838  14.327431        3504.0         0.0        0.0                  0.0  \n",
      "6    12.820470        3490.0         0.0        0.0                  0.0  \n",
      "12   12.815932        3475.0         0.0        0.0                  0.0  \n"
     ]
    }
   ],
   "source": [
    "from sklearn.neighbors import NearestNeighbors\n",
    "\n",
    "nn = NearestNeighbors(n_neighbors=5, metric=\"euclidean\").fit(track_features_scaled)\n",
    "\n",
    "new_route_features = [[47.5, 47.4, 47.6, 9.7, 9.6, 9.8, 3600, 30, 5, 0.2]]  \n",
    "\n",
    "distances, indices = nn.kneighbors(new_route_features)\n",
    "closest_routes = track_features.iloc[indices[0]]\n",
    "\n",
    "print(\"Closest Routes to New Path:\")\n",
    "print(closest_routes)\n"
   ]
  },
  {
   "cell_type": "code",
   "execution_count": null,
   "metadata": {},
   "outputs": [],
   "source": []
  }
 ],
 "metadata": {
  "kernelspec": {
   "display_name": ".venv",
   "language": "python",
   "name": "python3"
  },
  "language_info": {
   "codemirror_mode": {
    "name": "ipython",
    "version": 3
   },
   "file_extension": ".py",
   "mimetype": "text/x-python",
   "name": "python",
   "nbconvert_exporter": "python",
   "pygments_lexer": "ipython3",
   "version": "3.10.12"
  }
 },
 "nbformat": 4,
 "nbformat_minor": 2
}
