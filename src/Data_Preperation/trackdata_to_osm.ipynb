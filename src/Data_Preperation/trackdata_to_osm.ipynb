{
 "cells": [
  {
   "cell_type": "code",
   "execution_count": 1,
   "metadata": {},
   "outputs": [],
   "source": [
    "import pandas as pd\n",
    "import numpy as np\n",
    "from geopy.distance import geodesic\n",
    "\n",
    "def compute_route_features(df):\n",
    "    \"\"\"\n",
    "    Aggregates waypoint data into OSM-style features.\n",
    "    \"\"\"\n",
    "    route_features = []\n",
    "\n",
    "    for track_id, group in df.groupby(\"id_tracking\"):\n",
    "        group = group.sort_values(\"time\")\n",
    "\n",
    "        # Compute total distance traveled (sum of Haversine distances)\n",
    "        coords = list(zip(group.latitude, group.longitude))\n",
    "        distances = [geodesic(coords[i], coords[i + 1]).km for i in range(len(coords) - 1)]\n",
    "        total_distance = sum(distances)\n",
    "\n",
    "        # Compute avg street segment length\n",
    "        avg_street_segment_length = np.mean(distances) if len(distances) > 0 else 0\n",
    "\n",
    "        # Compute intersection density (sharp direction changes)\n",
    "        heading_changes = np.abs(np.diff(group.heading))\n",
    "        intersection_density = np.sum(heading_changes > 30) / total_distance if total_distance > 0 else 0\n",
    "\n",
    "        # Compute circuity (total distance / direct distance)\n",
    "        start, end = coords[0], coords[-1]\n",
    "        direct_distance = geodesic(start, end).km if start != end else 0\n",
    "        circuity_avg = total_distance / direct_distance if direct_distance > 0 else 1\n",
    "\n",
    "        # Compute node density (waypoints per km²)\n",
    "        min_lat, max_lat = group.latitude.min(), group.latitude.max()\n",
    "        min_lon, max_lon = group.longitude.min(), group.longitude.max()\n",
    "        area_km2 = (geodesic((min_lat, min_lon), (max_lat, min_lon)).km *\n",
    "                    geodesic((min_lat, min_lon), (min_lat, max_lon)).km)\n",
    "        node_density = len(group) / area_km2 if area_km2 > 0 else 0\n",
    "\n",
    "        # Compute self-loop proportion (waypoints revisited within 50m)\n",
    "        revisit_count = np.sum([geodesic(coords[i], coords[j]).m < 50 for i in range(len(coords)) for j in range(i+1, len(coords))])\n",
    "        self_loop_proportion = revisit_count / len(coords) if len(coords) > 0 else 0\n",
    "\n",
    "        # Append the extracted features\n",
    "        route_features.append({\n",
    "            \"id_tracking\": track_id,\n",
    "            \"total_distance\": total_distance,\n",
    "            \"node_density\": node_density,\n",
    "            \"street_density\": total_distance / area_km2 if area_km2 > 0 else 0,\n",
    "            \"avg_street_segment_length\": avg_street_segment_length,\n",
    "            \"intersection_density\": intersection_density,\n",
    "            \"circuity_avg\": circuity_avg,\n",
    "            \"self_loop_proportion\": self_loop_proportion,\n",
    "            \"street_segment_count\": len(group),\n",
    "            \"streets_per_node_avg\": len(group) / total_distance if total_distance > 0 else 0\n",
    "        })\n",
    "\n",
    "    return pd.DataFrame(route_features)\n"
   ]
  },
  {
   "cell_type": "code",
   "execution_count": 3,
   "metadata": {},
   "outputs": [],
   "source": [
    "track_features = pd.read_parquet(\"./gps_data_relaxed_parameters_more.parquet\")\n",
    "track_features_osm = compute_route_features(track_features)\n",
    "track_features_osm.to_parquet(\"./osm_style_data/gps_data_osm_style.parquet\")\n"
   ]
  },
  {
   "cell_type": "code",
   "execution_count": null,
   "metadata": {},
   "outputs": [],
   "source": []
  }
 ],
 "metadata": {
  "kernelspec": {
   "display_name": ".venv",
   "language": "python",
   "name": "python3"
  },
  "language_info": {
   "codemirror_mode": {
    "name": "ipython",
    "version": 3
   },
   "file_extension": ".py",
   "mimetype": "text/x-python",
   "name": "python",
   "nbconvert_exporter": "python",
   "pygments_lexer": "ipython3",
   "version": "3.10.12"
  }
 },
 "nbformat": 4,
 "nbformat_minor": 2
}
