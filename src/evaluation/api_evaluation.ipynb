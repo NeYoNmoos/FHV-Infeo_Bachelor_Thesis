{
 "cells": [
  {
   "cell_type": "code",
   "execution_count": 4,
   "metadata": {},
   "outputs": [
    {
     "data": {
      "image/png": "[encoded data removed]",
      "text/plain": [
       "<Figure size 800x800 with 1 Axes>"
      ]
     },
     "metadata": {},
     "output_type": "display_data"
    }
   ],
   "source": [
    "import pandas as pd\n",
    "import geopandas as gpd\n",
    "import matplotlib.pyplot as plt\n",
    "from shapely.geometry import Polygon, LineString\n",
    "import json\n",
    "\n",
    "# Load the historical tracking data with waypoints\n",
    "waypoints_df = pd.read_parquet(\"../Data_Preperation/gps_data_relaxed_parameters_more.parquet\")  # Adjust filename\n",
    "\n",
    "# Example input geofence (replace with real input)\n",
    "geofence_coords = [\n",
    "    [15.39115201797813, 47.04613526180805],\n",
    "    [15.39115201797813, 47.02472022658941],\n",
    "    [15.425096301947633, 47.02472022658941],\n",
    "    [15.425096301947633, 47.04613526180805]\n",
    "]\n",
    "geofence_poly = Polygon(geofence_coords)\n",
    "\n",
    "# Suggested routes from the API response (replace with actual API response)\n",
    "suggested_routes = [\n",
    "    {\"id_tracking\": 68223},\n",
    "    {\"id_tracking\": 81628},\n",
    "    {\"id_tracking\": 73818},\n",
    "    {\"id_tracking\": 73121},\n",
    "    {\"id_tracking\": 88119}\n",
    "]\n",
    "\n",
    "# Convert geofence to GeoDataFrame\n",
    "gdf_geofence = gpd.GeoDataFrame(geometry=[geofence_poly], crs=\"EPSG:4326\")\n",
    "\n",
    "# Extract waypoints for the suggested routes\n",
    "route_geometries = []\n",
    "for route in suggested_routes:\n",
    "    tracking_id = route[\"id_tracking\"]\n",
    "    route_waypoints = waypoints_df[waypoints_df[\"id_tracking\"] == tracking_id]\n",
    "    \n",
    "    if not route_waypoints.empty:\n",
    "        route_geometry = LineString(zip(route_waypoints[\"longitude\"], route_waypoints[\"latitude\"]))\n",
    "        route_geometries.append(route_geometry)\n",
    "\n",
    "# Convert routes to GeoDataFrame\n",
    "gdf_routes = gpd.GeoDataFrame(geometry=route_geometries, crs=\"EPSG:4326\")\n",
    "\n",
    "# Plot everything\n",
    "fig, ax = plt.subplots(figsize=(8, 8))\n",
    "gdf_geofence.boundary.plot(ax=ax, color=\"red\", linewidth=2, label=\"Input Geofence\")\n",
    "gdf_routes.plot(ax=ax, color=\"blue\", linewidth=1, alpha=0.7, label=\"Suggested Routes\")\n",
    "\n",
    "plt.legend()\n",
    "plt.title(\"Suggested Routes vs. Input Geofence\")\n",
    "plt.show()\n"
   ]
  },
  {
   "cell_type": "code",
   "execution_count": 8,
   "metadata": {},
   "outputs": [],
   "source": [
    "import numpy as np\n",
    "import osmnx as ox\n",
    "from fastapi import FastAPI, HTTPException\n",
    "\n",
    "def extract_osm_features(geofence_poly):\n",
    "    \"\"\"\n",
    "    Extracts OSM-style road network features from the given geofence.\n",
    "    \"\"\"\n",
    "    try:\n",
    "        # Convert geofence to bounding box\n",
    "        min_lon, min_lat, max_lon, max_lat = geofence_poly.bounds\n",
    "\n",
    "        # Get the road network from OSM\n",
    "        G = ox.graph_from_bbox((min_lon, min_lat, max_lon, max_lat), network_type=\"drive\")\n",
    "\n",
    "        # Compute the area of the geofence in km² using geopandas\n",
    "        import geopandas as gpd\n",
    "        gdf = gpd.GeoDataFrame(geometry=[geofence_poly], crs=\"EPSG:4326\").to_crs(epsg=3857)\n",
    "        area_km2 = gdf.geometry.area.iloc[0] / 1e6\n",
    "\n",
    "        # Compute OSM-based road statistics\n",
    "        stats = ox.basic_stats(G, area=area_km2)\n",
    "\n",
    "        # Extract and align with tracking data\n",
    "        osm_features = {\n",
    "            \"total_distance\": stats.get(\"edge_length_total\", 0) / 1000,  # Convert meters to km\n",
    "            \"node_density\": stats.get(\"node_density_km\", 0),\n",
    "            \"street_density\": stats.get(\"street_density_km\", 0),\n",
    "            \"avg_street_segment_length\": stats.get(\"street_length_avg\", 0),\n",
    "            \"intersection_density\": stats.get(\"intersection_density_km\", 0),\n",
    "            \"circuity_avg\": stats.get(\"circuity_avg\", 0),\n",
    "            \"self_loop_proportion\": stats.get(\"self_loop_proportion\", 0),\n",
    "            \"street_segment_count\": stats.get(\"street_segment_count\", 0),\n",
    "            \"streets_per_node_avg\": stats.get(\"streets_per_node_avg\", 0)\n",
    "        }\n",
    "\n",
    "        # Convert to numpy array for nearest neighbor matching\n",
    "        return np.array([osm_features[key] for key in osm_features.keys()]).reshape(1, -1)\n",
    "\n",
    "    except Exception as e:\n",
    "        raise HTTPException(status_code=500, detail=f\"OSM feature extraction error: {e}\")\n"
   ]
  },
  {
   "cell_type": "code",
   "execution_count": 9,
   "metadata": {},
   "outputs": [
    {
     "ename": "NameError",
     "evalue": "name 'track_features' is not defined",
     "output_type": "error",
     "traceback": [
      "\u001b[0;31m---------------------------------------------------------------------------\u001b[0m",
      "\u001b[0;31mNameError\u001b[0m                                 Traceback (most recent call last)",
      "Cell \u001b[0;32mIn[9], line 15\u001b[0m\n\u001b[1;32m      8\u001b[0m osm_features_df \u001b[38;5;241m=\u001b[39m pd\u001b[38;5;241m.\u001b[39mDataFrame(osm_feature_vector, columns\u001b[38;5;241m=\u001b[39m[\n\u001b[1;32m      9\u001b[0m     \u001b[38;5;124m\"\u001b[39m\u001b[38;5;124mtotal_distance\u001b[39m\u001b[38;5;124m\"\u001b[39m, \u001b[38;5;124m\"\u001b[39m\u001b[38;5;124mnode_density\u001b[39m\u001b[38;5;124m\"\u001b[39m, \u001b[38;5;124m\"\u001b[39m\u001b[38;5;124mstreet_density\u001b[39m\u001b[38;5;124m\"\u001b[39m,\n\u001b[1;32m     10\u001b[0m     \u001b[38;5;124m\"\u001b[39m\u001b[38;5;124mavg_street_segment_length\u001b[39m\u001b[38;5;124m\"\u001b[39m, \u001b[38;5;124m\"\u001b[39m\u001b[38;5;124mintersection_density\u001b[39m\u001b[38;5;124m\"\u001b[39m,\n\u001b[1;32m     11\u001b[0m     \u001b[38;5;124m\"\u001b[39m\u001b[38;5;124mcircuity_avg\u001b[39m\u001b[38;5;124m\"\u001b[39m, \u001b[38;5;124m\"\u001b[39m\u001b[38;5;124mself_loop_proportion\u001b[39m\u001b[38;5;124m\"\u001b[39m, \u001b[38;5;124m\"\u001b[39m\u001b[38;5;124mstreet_segment_count\u001b[39m\u001b[38;5;124m\"\u001b[39m, \u001b[38;5;124m\"\u001b[39m\u001b[38;5;124mstreets_per_node_avg\u001b[39m\u001b[38;5;124m\"\u001b[39m\n\u001b[1;32m     12\u001b[0m ])\n\u001b[1;32m     14\u001b[0m \u001b[38;5;66;03m# Get suggested routes' features\u001b[39;00m\n\u001b[0;32m---> 15\u001b[0m suggested_routes_df \u001b[38;5;241m=\u001b[39m \u001b[43mtrack_features\u001b[49m[track_features[\u001b[38;5;124m\"\u001b[39m\u001b[38;5;124mid_tracking\u001b[39m\u001b[38;5;124m\"\u001b[39m]\u001b[38;5;241m.\u001b[39misin([route[\u001b[38;5;124m\"\u001b[39m\u001b[38;5;124mid_tracking\u001b[39m\u001b[38;5;124m\"\u001b[39m] \u001b[38;5;28;01mfor\u001b[39;00m route \u001b[38;5;129;01min\u001b[39;00m suggested_routes])]\n\u001b[1;32m     17\u001b[0m \u001b[38;5;66;03m# Compare feature distributions\u001b[39;00m\n\u001b[1;32m     18\u001b[0m \u001b[38;5;28mprint\u001b[39m(\u001b[38;5;124m\"\u001b[39m\u001b[38;5;124mOSM Features for Input Geofence:\u001b[39m\u001b[38;5;124m\"\u001b[39m)\n",
      "\u001b[0;31mNameError\u001b[0m: name 'track_features' is not defined"
     ]
    }
   ],
   "source": [
    "# Example: Assume you already have a geofence polygon input\n",
    "geofence_poly = Polygon(geofence_coords)\n",
    "\n",
    "# Extract OSM features for the input area\n",
    "osm_feature_vector = extract_osm_features(geofence_poly)\n",
    "\n",
    "# Convert it into a DataFrame for comparison\n",
    "osm_features_df = pd.DataFrame(osm_feature_vector, columns=[\n",
    "    \"total_distance\", \"node_density\", \"street_density\",\n",
    "    \"avg_street_segment_length\", \"intersection_density\",\n",
    "    \"circuity_avg\", \"self_loop_proportion\", \"street_segment_count\", \"streets_per_node_avg\"\n",
    "])\n",
    "\n",
    "# Get suggested routes' features\n",
    "suggested_routes_df = track_features[track_features[\"id_tracking\"].isin([route[\"id_tracking\"] for route in suggested_routes])]\n",
    "\n",
    "# Compare feature distributions\n",
    "print(\"OSM Features for Input Geofence:\")\n",
    "print(osm_features_df)\n",
    "\n",
    "print(\"\\nSuggested Routes Features:\")\n",
    "print(suggested_routes_df)\n",
    "\n",
    "# Compute absolute differences\n",
    "feature_differences = (suggested_routes_df.drop(columns=[\"id_tracking\"]) - osm_features_df.iloc[0]).abs()\n",
    "print(\"\\nFeature Differences:\")\n",
    "print(feature_differences.mean())  # Show mean absolute differences\n"
   ]
  },
  {
   "cell_type": "code",
   "execution_count": null,
   "metadata": {},
   "outputs": [],
   "source": []
  }
 ],
 "metadata": {
  "kernelspec": {
   "display_name": ".venv",
   "language": "python",
   "name": "python3"
  },
  "language_info": {
   "codemirror_mode": {
    "name": "ipython",
    "version": 3
   },
   "file_extension": ".py",
   "mimetype": "text/x-python",
   "name": "python",
   "nbconvert_exporter": "python",
   "pygments_lexer": "ipython3",
   "version": "3.10.12"
  }
 },
 "nbformat": 4,
 "nbformat_minor": 2
}
