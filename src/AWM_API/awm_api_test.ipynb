{
 "cells": [
  {
   "cell_type": "code",
   "execution_count": 7,
   "metadata": {},
   "outputs": [
    {
     "name": "stdout",
     "output_type": "stream",
     "text": [
      "<Response [200 OK]>\n",
      "{'total': 101353, 'items': [{'id': 100914, 'lastChange': '2025-03-06T13:32:39+01:00', 'name': '1cdfc79edb634c5c8f5e084c2276b43f', 'description': '1359@awm_steiner', 'recorded': '2025-03-05T00:00:00+01:00', 'vehicleId': None, 'vehicleName': '', 'tourId': None, 'tourName': '', 'tourColor': None, 'length': 97.91008657336121, 'duration': 333170000000, 'isExported': 0, 'noExport': 0, 'isInvalid': None, 'editState': 0, 'minimumConnectionLength': 0, 'dumpZone': 0, 'externalId': None, 'points': [], 'metaData': []}, {'id': 100913, 'lastChange': '2025-03-06T13:32:39+01:00', 'name': '8aa43ce03bc54486875ef97f680c06e6', 'description': '1358@awm_steiner', 'recorded': '2025-03-05T00:00:00+01:00', 'vehicleId': None, 'vehicleName': '', 'tourId': None, 'tourName': '', 'tourColor': None, 'length': 134.66980425235172, 'duration': 385710000000, 'isExported': 0, 'noExport': 0, 'isInvalid': None, 'editState': 0, 'minimumConnectionLength': 0, 'dumpZone': 0, 'externalId': None, 'points': [], 'metaData': []}, {'id': 100912, 'lastChange': '2025-03-06T13:32:38+01:00', 'name': '4e8a3ada4c58410799657cd49beea5b5', 'description': '1357@awm_steiner', 'recorded': '2025-03-05T00:00:00+01:00', 'vehicleId': None, 'vehicleName': '', 'tourId': None, 'tourName': '', 'tourColor': None, 'length': 147.44321154074245, 'duration': 398990000000, 'isExported': 0, 'noExport': 0, 'isInvalid': None, 'editState': 0, 'minimumConnectionLength': 0, 'dumpZone': 0, 'externalId': None, 'points': [], 'metaData': []}, {'id': 100911, 'lastChange': '2025-03-06T13:32:38+01:00', 'name': 'dd18ff8b5034455082fa9c15b0b3fec1', 'description': '1356@awm_steiner', 'recorded': '2025-03-05T00:00:00+01:00', 'vehicleId': None, 'vehicleName': '', 'tourId': None, 'tourName': '', 'tourColor': None, 'length': 104.99752215819723, 'duration': 338250000000, 'isExported': 0, 'noExport': 0, 'isInvalid': None, 'editState': 0, 'minimumConnectionLength': 0, 'dumpZone': 0, 'externalId': None, 'points': [], 'metaData': []}, {'id': 100910, 'lastChange': '2025-03-06T13:32:37+01:00', 'name': '656d33fac49f4256ad3bd03627f32805', 'description': '1355@awm_steiner', 'recorded': '2025-03-05T00:00:00+01:00', 'vehicleId': None, 'vehicleName': '', 'tourId': None, 'tourName': '', 'tourColor': None, 'length': 50.44873301757938, 'duration': 313940000000, 'isExported': 0, 'noExport': 0, 'isInvalid': None, 'editState': 0, 'minimumConnectionLength': 0, 'dumpZone': 0, 'externalId': None, 'points': [], 'metaData': []}, {'id': 100909, 'lastChange': '2025-03-06T13:32:37+01:00', 'name': '7f1d86e629e3452d827e9389092a5219', 'description': '1354@awm_steiner', 'recorded': '2025-03-05T00:00:00+01:00', 'vehicleId': None, 'vehicleName': '', 'tourId': None, 'tourName': '', 'tourColor': None, 'length': 77.9210363037611, 'duration': 268030000000, 'isExported': 0, 'noExport': 0, 'isInvalid': None, 'editState': 0, 'minimumConnectionLength': 0, 'dumpZone': 0, 'externalId': None, 'points': [], 'metaData': []}, {'id': 100014, 'lastChange': '2025-03-06T13:25:24+01:00', 'name': 'ce2a944de7cf497fb4011670bb94cbff', 'description': '14877@awm_müllex', 'recorded': '2025-03-05T00:00:00+01:00', 'vehicleId': None, 'vehicleName': '', 'tourId': None, 'tourName': '', 'tourColor': None, 'length': 74.77388194506821, 'duration': 312590000000, 'isExported': 0, 'noExport': 0, 'isInvalid': None, 'editState': 0, 'minimumConnectionLength': 0, 'dumpZone': 0, 'externalId': None, 'points': [], 'metaData': []}, {'id': 100013, 'lastChange': '2025-03-06T13:25:24+01:00', 'name': '2afc35cf8ce64240ad56a75468b19ec0', 'description': '14876@awm_müllex', 'recorded': '2025-03-05T00:00:00+01:00', 'vehicleId': None, 'vehicleName': '', 'tourId': None, 'tourName': '', 'tourColor': None, 'length': 75.03511578832658, 'duration': 314550000000, 'isExported': 0, 'noExport': 0, 'isInvalid': None, 'editState': 0, 'minimumConnectionLength': 0, 'dumpZone': 0, 'externalId': None, 'points': [], 'metaData': []}, {'id': 100012, 'lastChange': '2025-03-06T13:25:23+01:00', 'name': 'bf6e2ac6945c4091ae15c855c2beca05', 'description': '14875@awm_müllex', 'recorded': '2025-03-05T00:00:00+01:00', 'vehicleId': None, 'vehicleName': '', 'tourId': None, 'tourName': '', 'tourColor': None, 'length': 72.48431563513687, 'duration': 253970000000, 'isExported': 0, 'noExport': 0, 'isInvalid': None, 'editState': 0, 'minimumConnectionLength': 0, 'dumpZone': 0, 'externalId': None, 'points': [], 'metaData': []}, {'id': 100011, 'lastChange': '2025-03-06T13:25:23+01:00', 'name': 'ea99755c9a624efeb9dc7976fb3c6400', 'description': '14874@awm_müllex', 'recorded': '2025-03-05T00:00:00+01:00', 'vehicleId': None, 'vehicleName': '', 'tourId': None, 'tourName': '', 'tourColor': None, 'length': 45.45384095434726, 'duration': 863430000000, 'isExported': 0, 'noExport': 0, 'isInvalid': None, 'editState': 0, 'minimumConnectionLength': 0, 'dumpZone': 0, 'externalId': None, 'points': [], 'metaData': []}]}\n"
     ]
    }
   ],
   "source": [
    "import httpx\n",
    "import asyncio\n",
    "\n",
    "LOGIN_URL = 'https://awm.infeo.at/api/getsecuretoken'\n",
    "TRACKINGS_URL = 'https://awm.infeo.at/api/trackings/?startIndex=0&count=10&orderBy=-recorded&isExported=false&isExportedFlag=0&noExportFlag=0&isExportable=false&isValid=false&isInvalid=false&validityUnknown=false'\n",
    "\n",
    "USERNAME = 'flr#hefel@infeo'\n",
    "PASSWORD = 'Infeo_2023'\n",
    "GRANT_TYPE = \"password\" \n",
    "\n",
    "async def get_access_token():\n",
    "    async with httpx.AsyncClient() as client:\n",
    "        \n",
    "        headers = {\"Content-Type\": \"application/x-www-form-urlencoded\"}\n",
    "        data = {\n",
    "            \"username\": USERNAME,\n",
    "            \"password\": PASSWORD,\n",
    "            \"grant_type\": GRANT_TYPE\n",
    "        }\n",
    "        response = await client.post(LOGIN_URL, data=data, headers=headers)\n",
    "        \n",
    "        print(response)\n",
    "        \n",
    "        if response.status_code == 200:\n",
    "            return response.json().get(\"access_token\")  \n",
    "        else:\n",
    "            print(f\"Failed to authenticate: {response.status_code}, {response.text}\")\n",
    "            return None\n",
    "\n",
    "async def get_trackings(access_token):\n",
    "    headers = {\"Authorization\": f\"Bearer {access_token}\"}\n",
    "    \n",
    "    async with httpx.AsyncClient() as client:\n",
    "        response = await client.get(TRACKINGS_URL, headers=headers)\n",
    "        \n",
    "        if response.status_code == 200:\n",
    "            return response.json()\n",
    "        else:\n",
    "            print(f\"Failed to get trackings: {response.status_code}, {response.text}\")\n",
    "            return None\n",
    "\n",
    "async def main():\n",
    "    token = await get_access_token()\n",
    "    if token:\n",
    "        trackings = await get_trackings(token)\n",
    "        print(trackings)\n",
    "\n",
    "await main()\n"
   ]
  }
 ],
 "metadata": {
  "kernelspec": {
   "display_name": ".venv",
   "language": "python",
   "name": "python3"
  },
  "language_info": {
   "codemirror_mode": {
    "name": "ipython",
    "version": 3
   },
   "file_extension": ".py",
   "mimetype": "text/x-python",
   "name": "python",
   "nbconvert_exporter": "python",
   "pygments_lexer": "ipython3",
   "version": "3.10.12"
  }
 },
 "nbformat": 4,
 "nbformat_minor": 2
}
